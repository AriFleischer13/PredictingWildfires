{
 "cells": [
  {
   "cell_type": "code",
   "execution_count": 2,
   "metadata": {},
   "outputs": [
    {
     "name": "stderr",
     "output_type": "stream",
     "text": [
      "<frozen importlib._bootstrap>:219: UserWarning: Warning: ecCodes 2.19.1 or higher is recommended. You are running 2.17.0.\n"
     ]
    }
   ],
   "source": [
    "import cfgrib\n",
    "import xarray as xr\n",
    "import os\n",
    "import pygrib\n",
    "import numpy as np\n",
    "import pandas as pd\n",
    "import matplotlib.pyplot as plt\n",
    "import sys\n",
    "import datetime, time\n",
    "from sklearn.preprocessing import KBinsDiscretizer"
   ]
  },
  {
   "cell_type": "code",
   "execution_count": 345,
   "metadata": {},
   "outputs": [],
   "source": [
    "!export ECCODES_DEFINITION_PATH=/Users/macbook/opt/anaconda3/share/eccodes/definitions"
   ]
  },
  {
   "cell_type": "code",
   "execution_count": 75,
   "metadata": {},
   "outputs": [],
   "source": [
    "ds = cfgrib.open_file('/Users/macbook/Documents/SML/Project/ncar/pgbh06.gdas.20100111-20100115.grb2',\n",
    "                     filter_by_keys={'typeOfLevel': 'unknown'})"
   ]
  },
  {
   "cell_type": "code",
   "execution_count": null,
   "metadata": {},
   "outputs": [],
   "source": [
    "#check out the data:\n",
    "ds.dimensions.keys()"
   ]
  },
  {
   "cell_type": "code",
   "execution_count": 13,
   "metadata": {},
   "outputs": [],
   "source": [
    "ds = cfgrib.open_dataset('/Users/macbook/Documents/SML/Project/ncar/pgbh06.gdas.20100126-20100131.grb2', \n",
    "                         backend_kwargs={'filter_by_keys':{'typeOfLevel':'unknown'}})"
   ]
  },
  {
   "cell_type": "code",
   "execution_count": 15,
   "metadata": {
    "scrolled": true
   },
   "outputs": [
    {
     "data": {
      "text/plain": [
       "Frozen({'time': <xarray.IndexVariable 'time' (time: 24)>\n",
       "array(['2010-01-26T00:00:00.000000000', '2010-01-26T06:00:00.000000000',\n",
       "       '2010-01-26T12:00:00.000000000', '2010-01-26T18:00:00.000000000',\n",
       "       '2010-01-27T00:00:00.000000000', '2010-01-27T06:00:00.000000000',\n",
       "       '2010-01-27T12:00:00.000000000', '2010-01-27T18:00:00.000000000',\n",
       "       '2010-01-28T00:00:00.000000000', '2010-01-28T06:00:00.000000000',\n",
       "       '2010-01-28T12:00:00.000000000', '2010-01-28T18:00:00.000000000',\n",
       "       '2010-01-29T00:00:00.000000000', '2010-01-29T06:00:00.000000000',\n",
       "       '2010-01-29T12:00:00.000000000', '2010-01-29T18:00:00.000000000',\n",
       "       '2010-01-30T00:00:00.000000000', '2010-01-30T06:00:00.000000000',\n",
       "       '2010-01-30T12:00:00.000000000', '2010-01-30T18:00:00.000000000',\n",
       "       '2010-01-31T00:00:00.000000000', '2010-01-31T06:00:00.000000000',\n",
       "       '2010-01-31T12:00:00.000000000', '2010-01-31T18:00:00.000000000'],\n",
       "      dtype='datetime64[ns]')\n",
       "Attributes:\n",
       "    long_name:      initial time of forecast\n",
       "    standard_name:  forecast_reference_time, 'step': <xarray.Variable ()>\n",
       "array(21600000000000, dtype='timedelta64[ns]')\n",
       "Attributes:\n",
       "    long_name:      time since forecast_reference_time\n",
       "    standard_name:  forecast_period, 'level': <xarray.Variable ()>\n",
       "array(0)\n",
       "Attributes:\n",
       "    long_name:  original GRIB coordinate for key: level(level)\n",
       "    units:      1, 'latitude': <xarray.IndexVariable 'latitude' (latitude: 41)>\n",
       "array([50. , 49.5, 49. , 48.5, 48. , 47.5, 47. , 46.5, 46. , 45.5, 45. , 44.5,\n",
       "       44. , 43.5, 43. , 42.5, 42. , 41.5, 41. , 40.5, 40. , 39.5, 39. , 38.5,\n",
       "       38. , 37.5, 37. , 36.5, 36. , 35.5, 35. , 34.5, 34. , 33.5, 33. , 32.5,\n",
       "       32. , 31.5, 31. , 30.5, 30. ])\n",
       "Attributes:\n",
       "    units:             degrees_north\n",
       "    standard_name:     latitude\n",
       "    long_name:         latitude\n",
       "    stored_direction:  decreasing, 'longitude': <xarray.IndexVariable 'longitude' (longitude: 111)>\n",
       "array([232. , 232.5, 233. , 233.5, 234. , 234.5, 235. , 235.5, 236. , 236.5,\n",
       "       237. , 237.5, 238. , 238.5, 239. , 239.5, 240. , 240.5, 241. , 241.5,\n",
       "       242. , 242.5, 243. , 243.5, 244. , 244.5, 245. , 245.5, 246. , 246.5,\n",
       "       247. , 247.5, 248. , 248.5, 249. , 249.5, 250. , 250.5, 251. , 251.5,\n",
       "       252. , 252.5, 253. , 253.5, 254. , 254.5, 255. , 255.5, 256. , 256.5,\n",
       "       257. , 257.5, 258. , 258.5, 259. , 259.5, 260. , 260.5, 261. , 261.5,\n",
       "       262. , 262.5, 263. , 263.5, 264. , 264.5, 265. , 265.5, 266. , 266.5,\n",
       "       267. , 267.5, 268. , 268.5, 269. , 269.5, 270. , 270.5, 271. , 271.5,\n",
       "       272. , 272.5, 273. , 273.5, 274. , 274.5, 275. , 275.5, 276. , 276.5,\n",
       "       277. , 277.5, 278. , 278.5, 279. , 279.5, 280. , 280.5, 281. , 281.5,\n",
       "       282. , 282.5, 283. , 283.5, 284. , 284.5, 285. , 285.5, 286. , 286.5,\n",
       "       287. ])\n",
       "Attributes:\n",
       "    units:          degrees_east\n",
       "    standard_name:  longitude\n",
       "    long_name:      longitude, 'valid_time': <xarray.Variable (time: 24)>\n",
       "array(['2010-01-26T06:00:00.000000000', '2010-01-26T12:00:00.000000000',\n",
       "       '2010-01-26T18:00:00.000000000', '2010-01-27T00:00:00.000000000',\n",
       "       '2010-01-27T06:00:00.000000000', '2010-01-27T12:00:00.000000000',\n",
       "       '2010-01-27T18:00:00.000000000', '2010-01-28T00:00:00.000000000',\n",
       "       '2010-01-28T06:00:00.000000000', '2010-01-28T12:00:00.000000000',\n",
       "       '2010-01-28T18:00:00.000000000', '2010-01-29T00:00:00.000000000',\n",
       "       '2010-01-29T06:00:00.000000000', '2010-01-29T12:00:00.000000000',\n",
       "       '2010-01-29T18:00:00.000000000', '2010-01-30T00:00:00.000000000',\n",
       "       '2010-01-30T06:00:00.000000000', '2010-01-30T12:00:00.000000000',\n",
       "       '2010-01-30T18:00:00.000000000', '2010-01-31T00:00:00.000000000',\n",
       "       '2010-01-31T06:00:00.000000000', '2010-01-31T12:00:00.000000000',\n",
       "       '2010-01-31T18:00:00.000000000', '2010-02-01T00:00:00.000000000'],\n",
       "      dtype='datetime64[ns]')\n",
       "Attributes:\n",
       "    standard_name:  time\n",
       "    long_name:      time, 'paramId_0': <xarray.Variable (time: 24, latitude: 41, longitude: 111)>\n",
       "[109224 values with dtype=float32]\n",
       "Attributes: (12/22)\n",
       "    GRIB_paramId:                             0\n",
       "    GRIB_dataType:                            fc\n",
       "    GRIB_missingValue:                        9999\n",
       "    GRIB_numberOfPoints:                      4551\n",
       "    GRIB_NV:                                  0\n",
       "    GRIB_stepUnits:                           1\n",
       "    ...                                       ...\n",
       "    GRIB_jPointsAreConsecutive:               0\n",
       "    GRIB_jScansPositively:                    0\n",
       "    GRIB_latitudeOfFirstGridPointInDegrees:   50.0\n",
       "    GRIB_latitudeOfLastGridPointInDegrees:    30.0\n",
       "    long_name:                                original GRIB paramId: 0\n",
       "    units:                                    1})"
      ]
     },
     "execution_count": 15,
     "metadata": {},
     "output_type": "execute_result"
    }
   ],
   "source": [
    "ds.variables"
   ]
  },
  {
   "cell_type": "code",
   "execution_count": null,
   "metadata": {},
   "outputs": [],
   "source": [
    "timeLevel = ds.variables['time'].data\n",
    "timeLevel"
   ]
  },
  {
   "cell_type": "code",
   "execution_count": 12,
   "metadata": {
    "scrolled": true
   },
   "outputs": [
    {
     "ename": "NameError",
     "evalue": "name 'ds' is not defined",
     "output_type": "error",
     "traceback": [
      "\u001b[0;31m---------------------------------------------------------------------------\u001b[0m",
      "\u001b[0;31mNameError\u001b[0m                                 Traceback (most recent call last)",
      "\u001b[0;32m<ipython-input-12-68a5957418af>\u001b[0m in \u001b[0;36m<module>\u001b[0;34m\u001b[0m\n\u001b[0;32m----> 1\u001b[0;31m \u001b[0mds\u001b[0m\u001b[0;34m.\u001b[0m\u001b[0mvars\u001b[0m\u001b[0;34m\u001b[0m\u001b[0;34m\u001b[0m\u001b[0m\n\u001b[0m",
      "\u001b[0;31mNameError\u001b[0m: name 'ds' is not defined"
     ]
    }
   ],
   "source": [
    "ds.vars"
   ]
  },
  {
   "cell_type": "code",
   "execution_count": 17,
   "metadata": {},
   "outputs": [
    {
     "data": {
      "text/plain": [
       "MultiIndex([('2010-01-26 00:00:00', 50.0, 232.0),\n",
       "            ('2010-01-26 00:00:00', 50.0, 232.5),\n",
       "            ('2010-01-26 00:00:00', 50.0, 233.0),\n",
       "            ('2010-01-26 00:00:00', 50.0, 233.5),\n",
       "            ('2010-01-26 00:00:00', 50.0, 234.0),\n",
       "            ('2010-01-26 00:00:00', 50.0, 234.5),\n",
       "            ('2010-01-26 00:00:00', 50.0, 235.0),\n",
       "            ('2010-01-26 00:00:00', 50.0, 235.5),\n",
       "            ('2010-01-26 00:00:00', 50.0, 236.0),\n",
       "            ('2010-01-26 00:00:00', 50.0, 236.5),\n",
       "            ...\n",
       "            ('2010-01-31 18:00:00', 30.0, 282.5),\n",
       "            ('2010-01-31 18:00:00', 30.0, 283.0),\n",
       "            ('2010-01-31 18:00:00', 30.0, 283.5),\n",
       "            ('2010-01-31 18:00:00', 30.0, 284.0),\n",
       "            ('2010-01-31 18:00:00', 30.0, 284.5),\n",
       "            ('2010-01-31 18:00:00', 30.0, 285.0),\n",
       "            ('2010-01-31 18:00:00', 30.0, 285.5),\n",
       "            ('2010-01-31 18:00:00', 30.0, 286.0),\n",
       "            ('2010-01-31 18:00:00', 30.0, 286.5),\n",
       "            ('2010-01-31 18:00:00', 30.0, 287.0)],\n",
       "           names=['time', 'latitude', 'longitude'], length=109224)"
      ]
     },
     "execution_count": 17,
     "metadata": {},
     "output_type": "execute_result"
    }
   ],
   "source": [
    "dsn = ds.stack(z=(\"time\", \"latitude\", \"longitude\"))\n",
    "dsni = dsn.indexes[\"z\"]\n",
    "dsni = dsni.to_frame(index=False)\n",
    "dsni[\"paramId_0\"] = dsn.paramId_0.values.tolist()"
   ]
  },
  {
   "cell_type": "code",
   "execution_count": 343,
   "metadata": {},
   "outputs": [
    {
     "data": {
      "text/plain": [
       "<matplotlib.collections.QuadMesh at 0x7f8e0de4c190>"
      ]
     },
     "execution_count": 343,
     "metadata": {},
     "output_type": "execute_result"
    },
    {
     "data": {
      "image/png": "[encoded data removed]",
      "text/plain": [
       "<Figure size 432x288 with 2 Axes>"
      ]
     },
     "metadata": {
      "needs_background": "light"
     },
     "output_type": "display_data"
    }
   ],
   "source": [
    "ds.paramId_0[1].plot(cmap=plt.cm.coolwarm)"
   ]
  },
  {
   "cell_type": "markdown",
   "metadata": {},
   "source": [
    "# Real Work"
   ]
  },
  {
   "cell_type": "markdown",
   "metadata": {},
   "source": [
    "##### Importing files and merging them"
   ]
  },
  {
   "cell_type": "code",
   "execution_count": 22,
   "metadata": {},
   "outputs": [],
   "source": [
    "lfiles = sorted(os.listdir('/Users/macbook/Documents/SML/Project/ncar4/'))[1:] \n",
    "## I made sure that there are no files other the ones starting with \"pgbh06\", and \n",
    "## make sure that you also remove the first file which is there just to keep the last data point, and\n",
    "## it does not have time dimension, so removing it otherwise it would create issue in the below loop over the files"
   ]
  },
  {
   "cell_type": "code",
   "execution_count": 33,
   "metadata": {},
   "outputs": [
    {
     "name": "stdout",
     "output_type": "stream",
     "text": [
      "pgbh06.gdas.20100101-20100105.grb2\n",
      "pgbh06.gdas.20100106-20100110.grb2\n",
      "pgbh06.gdas.20100111-20100115.grb2\n",
      "pgbh06.gdas.20100116-20100120.grb2\n",
      "pgbh06.gdas.20100121-20100125.grb2\n",
      "pgbh06.gdas.20100126-20100131.grb2\n",
      "pgbl06.gdas.20100101-20100105.grb2\n",
      "pgbl06.gdas.20100106-20100110.grb2\n",
      "pgbl06.gdas.20100111-20100115.grb2\n",
      "pgbl06.gdas.20100116-20100120.grb2\n",
      "pgbl06.gdas.20100121-20100125.grb2\n",
      "pgbl06.gdas.20100126-20100131.grb2\n"
     ]
    }
   ],
   "source": [
    "merged_data = pd.DataFrame()\n",
    "\n",
    "for file in lfiles:\n",
    "    print(file)\n",
    "    data = cfgrib.open_dataset(f'/Users/macbook/Documents/SML/Project/ncar4/{file}', \n",
    "                         backend_kwargs={'filter_by_keys':{'typeOfLevel':'unknown'}})\n",
    "    data_keys = list(data.keys())\n",
    "    data = data.stack(z=(\"time\", \"latitude\", \"longitude\"))\n",
    "    temp_frame = data.indexes[\"z\"].to_frame(index=False)\n",
    "    for key in data_keys:\n",
    "        temp_frame[f\"{key}\"] = getattr(data, key).values.tolist()\n",
    "    temp_frame.dropna(inplace=True)\n",
    "    merged_data = merged_data.append(temp_frame)  "
   ]
  },
  {
   "cell_type": "markdown",
   "metadata": {},
   "source": [
    "###### Preprocessing merged dataset to later join it with our fires dataset\n",
    "1. Creating new column for Day of Year\n",
    "2. Moving to per day representation of data from 6 hr format\n",
    "3. Binning the latitude and longitude"
   ]
  },
  {
   "cell_type": "code",
   "execution_count": 34,
   "metadata": {},
   "outputs": [],
   "source": [
    "merged_data['DOY'] = merged_data['time'].dt.dayofyear\n",
    "merged_data['Year'] = merged_data['time'].dt.year\n",
    "merged_data = merged_data.groupby(['DOY','latitude','longitude','Year'], as_index=False).mean()"
   ]
  },
  {
   "cell_type": "code",
   "execution_count": 36,
   "metadata": {},
   "outputs": [
    {
     "data": {
      "text/plain": [
       "225.0"
      ]
     },
     "execution_count": 36,
     "metadata": {},
     "output_type": "execute_result"
    }
   ],
   "source": [
    "min(merged_data['longitude'])"
   ]
  },
  {
   "cell_type": "code",
   "execution_count": null,
   "metadata": {},
   "outputs": [],
   "source": []
  },
  {
   "cell_type": "code",
   "execution_count": 37,
   "metadata": {},
   "outputs": [],
   "source": [
    "merged_data['longitude'] = merged_data['longitude'] - 360"
   ]
  },
  {
   "cell_type": "code",
   "execution_count": 38,
   "metadata": {},
   "outputs": [],
   "source": [
    "merged_data['latitude'] = pd.cut(merged_data['latitude'], bins=np.arange(17, 71, 0.5).tolist())\n",
    "merged_data['longitude'] = pd.cut(merged_data['longitude'], bins=np.arange(-179, -64, 0.5).tolist())"
   ]
  },
  {
   "cell_type": "code",
   "execution_count": 41,
   "metadata": {},
   "outputs": [],
   "source": [
    "merged_data = merged_data.dropna()"
   ]
  },
  {
   "cell_type": "code",
   "execution_count": 42,
   "metadata": {},
   "outputs": [
    {
     "data": {
      "text/html": [
       "<div>\n",
       "<style scoped>\n",
       "    .dataframe tbody tr th:only-of-type {\n",
       "        vertical-align: middle;\n",
       "    }\n",
       "\n",
       "    .dataframe tbody tr th {\n",
       "        vertical-align: top;\n",
       "    }\n",
       "\n",
       "    .dataframe thead th {\n",
       "        text-align: right;\n",
       "    }\n",
       "</style>\n",
       "<table border=\"1\" class=\"dataframe\">\n",
       "  <thead>\n",
       "    <tr style=\"text-align: right;\">\n",
       "      <th></th>\n",
       "      <th>DOY</th>\n",
       "      <th>latitude</th>\n",
       "      <th>longitude</th>\n",
       "      <th>Year</th>\n",
       "      <th>paramId_0</th>\n",
       "      <th>pres</th>\n",
       "      <th>t</th>\n",
       "    </tr>\n",
       "  </thead>\n",
       "  <tbody>\n",
       "    <tr>\n",
       "      <th>0</th>\n",
       "      <td>1</td>\n",
       "      <td>(27.5, 28.0]</td>\n",
       "      <td>(-135.5, -135.0]</td>\n",
       "      <td>2010</td>\n",
       "      <td>40.75</td>\n",
       "      <td>21082.5</td>\n",
       "      <td>217.177002</td>\n",
       "    </tr>\n",
       "    <tr>\n",
       "      <th>1</th>\n",
       "      <td>1</td>\n",
       "      <td>(27.5, 28.0]</td>\n",
       "      <td>(-135.0, -134.5]</td>\n",
       "      <td>2010</td>\n",
       "      <td>39.75</td>\n",
       "      <td>21005.0</td>\n",
       "      <td>216.951500</td>\n",
       "    </tr>\n",
       "    <tr>\n",
       "      <th>2</th>\n",
       "      <td>1</td>\n",
       "      <td>(27.5, 28.0]</td>\n",
       "      <td>(-134.5, -134.0]</td>\n",
       "      <td>2010</td>\n",
       "      <td>39.50</td>\n",
       "      <td>21075.0</td>\n",
       "      <td>216.985249</td>\n",
       "    </tr>\n",
       "    <tr>\n",
       "      <th>3</th>\n",
       "      <td>1</td>\n",
       "      <td>(27.5, 28.0]</td>\n",
       "      <td>(-134.0, -133.5]</td>\n",
       "      <td>2010</td>\n",
       "      <td>36.75</td>\n",
       "      <td>22132.5</td>\n",
       "      <td>219.014999</td>\n",
       "    </tr>\n",
       "    <tr>\n",
       "      <th>4</th>\n",
       "      <td>1</td>\n",
       "      <td>(27.5, 28.0]</td>\n",
       "      <td>(-133.5, -133.0]</td>\n",
       "      <td>2010</td>\n",
       "      <td>31.75</td>\n",
       "      <td>22257.5</td>\n",
       "      <td>219.181999</td>\n",
       "    </tr>\n",
       "    <tr>\n",
       "      <th>...</th>\n",
       "      <td>...</td>\n",
       "      <td>...</td>\n",
       "      <td>...</td>\n",
       "      <td>...</td>\n",
       "      <td>...</td>\n",
       "      <td>...</td>\n",
       "      <td>...</td>\n",
       "    </tr>\n",
       "    <tr>\n",
       "      <th>216858</th>\n",
       "      <td>31</td>\n",
       "      <td>(55.5, 56.0]</td>\n",
       "      <td>(-67.0, -66.5]</td>\n",
       "      <td>2010</td>\n",
       "      <td>62.50</td>\n",
       "      <td>31767.5</td>\n",
       "      <td>219.953999</td>\n",
       "    </tr>\n",
       "    <tr>\n",
       "      <th>216859</th>\n",
       "      <td>31</td>\n",
       "      <td>(55.5, 56.0]</td>\n",
       "      <td>(-66.5, -66.0]</td>\n",
       "      <td>2010</td>\n",
       "      <td>68.75</td>\n",
       "      <td>32245.0</td>\n",
       "      <td>220.278004</td>\n",
       "    </tr>\n",
       "    <tr>\n",
       "      <th>216860</th>\n",
       "      <td>31</td>\n",
       "      <td>(55.5, 56.0]</td>\n",
       "      <td>(-66.0, -65.5]</td>\n",
       "      <td>2010</td>\n",
       "      <td>68.75</td>\n",
       "      <td>32482.5</td>\n",
       "      <td>220.579250</td>\n",
       "    </tr>\n",
       "    <tr>\n",
       "      <th>216861</th>\n",
       "      <td>31</td>\n",
       "      <td>(55.5, 56.0]</td>\n",
       "      <td>(-65.5, -65.0]</td>\n",
       "      <td>2010</td>\n",
       "      <td>66.00</td>\n",
       "      <td>32927.5</td>\n",
       "      <td>221.166248</td>\n",
       "    </tr>\n",
       "    <tr>\n",
       "      <th>216862</th>\n",
       "      <td>31</td>\n",
       "      <td>(55.5, 56.0]</td>\n",
       "      <td>(-65.0, -64.5]</td>\n",
       "      <td>2010</td>\n",
       "      <td>60.25</td>\n",
       "      <td>33395.0</td>\n",
       "      <td>221.635998</td>\n",
       "    </tr>\n",
       "  </tbody>\n",
       "</table>\n",
       "<p>210574 rows × 7 columns</p>\n",
       "</div>"
      ],
      "text/plain": [
       "        DOY      latitude         longitude  Year  paramId_0     pres  \\\n",
       "0         1  (27.5, 28.0]  (-135.5, -135.0]  2010      40.75  21082.5   \n",
       "1         1  (27.5, 28.0]  (-135.0, -134.5]  2010      39.75  21005.0   \n",
       "2         1  (27.5, 28.0]  (-134.5, -134.0]  2010      39.50  21075.0   \n",
       "3         1  (27.5, 28.0]  (-134.0, -133.5]  2010      36.75  22132.5   \n",
       "4         1  (27.5, 28.0]  (-133.5, -133.0]  2010      31.75  22257.5   \n",
       "...     ...           ...               ...   ...        ...      ...   \n",
       "216858   31  (55.5, 56.0]    (-67.0, -66.5]  2010      62.50  31767.5   \n",
       "216859   31  (55.5, 56.0]    (-66.5, -66.0]  2010      68.75  32245.0   \n",
       "216860   31  (55.5, 56.0]    (-66.0, -65.5]  2010      68.75  32482.5   \n",
       "216861   31  (55.5, 56.0]    (-65.5, -65.0]  2010      66.00  32927.5   \n",
       "216862   31  (55.5, 56.0]    (-65.0, -64.5]  2010      60.25  33395.0   \n",
       "\n",
       "                 t  \n",
       "0       217.177002  \n",
       "1       216.951500  \n",
       "2       216.985249  \n",
       "3       219.014999  \n",
       "4       219.181999  \n",
       "...            ...  \n",
       "216858  219.953999  \n",
       "216859  220.278004  \n",
       "216860  220.579250  \n",
       "216861  221.166248  \n",
       "216862  221.635998  \n",
       "\n",
       "[210574 rows x 7 columns]"
      ]
     },
     "execution_count": 42,
     "metadata": {},
     "output_type": "execute_result"
    }
   ],
   "source": [
    "merged_data"
   ]
  },
  {
   "cell_type": "markdown",
   "metadata": {},
   "source": [
    "##### Importing Fires dataset (only Lat, Long, DISCOVERY_DOY, FIRE_YEAR) \n",
    "It has Long_min, Long_max, Lat_min, Lat_max\n",
    "\n",
    "-178.8026\t-65.25694444\t17.93972222\t70.3306"
   ]
  },
  {
   "cell_type": "code",
   "execution_count": 377,
   "metadata": {},
   "outputs": [],
   "source": [
    "fires = pd.read_csv('/Users/macbook/Documents/SML/Project/Fires.csv')"
   ]
  },
  {
   "cell_type": "code",
   "execution_count": 378,
   "metadata": {},
   "outputs": [],
   "source": [
    "fires['LATITUDE'] = pd.cut(fires['LATITUDE'], bins=np.arange(17, 71, 0.5).tolist())\n",
    "fires['LONGITUDE'] = pd.cut(fires['LONGITUDE'], bins=np.arange(-179, -64, 0.5).tolist())\n",
    "fires['fire'] = 1\n",
    "fires = fires.drop_duplicates()"
   ]
  },
  {
   "cell_type": "markdown",
   "metadata": {},
   "source": [
    "##### Merging weather and fires dataset"
   ]
  },
  {
   "cell_type": "code",
   "execution_count": 399,
   "metadata": {},
   "outputs": [],
   "source": [
    "Xy = pd.merge(merged_data, fires, how='left', \n",
    "         left_on=['DOY','latitude','longitude','Year'], \n",
    "         right_on=['DISCOVERY_DOY','LATITUDE','LONGITUDE','FIRE_YEAR']).drop(columns = ['DISCOVERY_DOY','LATITUDE','LONGITUDE','FIRE_YEAR'])\n",
    "\n",
    "Xy['fire'] = Xy['fire'].fillna(0)"
   ]
  },
  {
   "cell_type": "code",
   "execution_count": 403,
   "metadata": {},
   "outputs": [
    {
     "data": {
      "text/plain": [
       "0.0    209344\n",
       "1.0      1230\n",
       "Name: fire, dtype: int64"
      ]
     },
     "execution_count": 403,
     "metadata": {},
     "output_type": "execute_result"
    }
   ],
   "source": [
    "Xy['fire'].value_counts()"
   ]
  },
  {
   "cell_type": "markdown",
   "metadata": {},
   "source": [
    "### Dataset 2 (6 hr average data)"
   ]
  },
  {
   "cell_type": "code",
   "execution_count": 3,
   "metadata": {},
   "outputs": [
    {
     "name": "stdout",
     "output_type": "stream",
     "text": [
      "pgbh06.gdas.20100101-20100105.grb2\n"
     ]
    }
   ],
   "source": [
    "files = ['pgbh06.gdas.20100101-20100105.grb2']\n",
    "merged_data1 = pd.DataFrame()\n",
    "\n",
    "for file in files:\n",
    "    print(file)\n",
    "    data = cfgrib.open_dataset(f'/Users/macbook/Documents/SML/Project/{file}', \n",
    "                         backend_kwargs={'filter_by_keys':{'typeOfLevel':'unknown'}})\n",
    "    data_keys = list(data.keys())\n",
    "    data = data.stack(z=(\"time\", \"latitude\", \"longitude\"))\n",
    "    temp_frame = data.indexes[\"z\"].to_frame(index=False)\n",
    "    for key in data_keys:\n",
    "        temp_frame[f\"{key}\"] = getattr(data, key).values.tolist()\n",
    "    temp_frame.dropna(inplace=True)\n",
    "    merged_data1 = merged_data1.append(temp_frame)  "
   ]
  },
  {
   "cell_type": "code",
   "execution_count": 4,
   "metadata": {},
   "outputs": [],
   "source": [
    "merged_data1['DOY'] = merged_data1['time'].dt.dayofyear\n",
    "merged_data1['Year'] = merged_data1['time'].dt.year\n",
    "merged_data1 = merged_data1.groupby(['DOY','latitude','longitude','Year'], as_index=False).mean()\n",
    "merged_data1['longitude'] = merged_data1['longitude'] - 360\n",
    "merged_data1['latitude'] = pd.cut(merged_data1['latitude'], bins=np.arange(17, 71, 0.5).tolist())\n",
    "merged_data1['longitude'] = pd.cut(merged_data1['longitude'], bins=np.arange(-179, -64, 0.5).tolist())\n",
    "merged_data1 = merged_data1.dropna()"
   ]
  },
  {
   "cell_type": "code",
   "execution_count": 5,
   "metadata": {},
   "outputs": [
    {
     "data": {
      "text/html": [
       "<div>\n",
       "<style scoped>\n",
       "    .dataframe tbody tr th:only-of-type {\n",
       "        vertical-align: middle;\n",
       "    }\n",
       "\n",
       "    .dataframe tbody tr th {\n",
       "        vertical-align: top;\n",
       "    }\n",
       "\n",
       "    .dataframe thead th {\n",
       "        text-align: right;\n",
       "    }\n",
       "</style>\n",
       "<table border=\"1\" class=\"dataframe\">\n",
       "  <thead>\n",
       "    <tr style=\"text-align: right;\">\n",
       "      <th></th>\n",
       "      <th>DOY</th>\n",
       "      <th>latitude</th>\n",
       "      <th>longitude</th>\n",
       "      <th>Year</th>\n",
       "      <th>tcc</th>\n",
       "      <th>pres</th>\n",
       "      <th>t</th>\n",
       "      <th>cwork</th>\n",
       "    </tr>\n",
       "  </thead>\n",
       "  <tbody>\n",
       "    <tr>\n",
       "      <th>126416</th>\n",
       "      <td>1</td>\n",
       "      <td>(17.0, 17.5]</td>\n",
       "      <td>(-152.5, -152.0]</td>\n",
       "      <td>2010</td>\n",
       "      <td>3.000000</td>\n",
       "      <td>16540.000000</td>\n",
       "      <td>214.117004</td>\n",
       "      <td>0.0</td>\n",
       "    </tr>\n",
       "    <tr>\n",
       "      <th>126417</th>\n",
       "      <td>1</td>\n",
       "      <td>(17.0, 17.5]</td>\n",
       "      <td>(-152.0, -151.5]</td>\n",
       "      <td>2010</td>\n",
       "      <td>4.000000</td>\n",
       "      <td>16540.000000</td>\n",
       "      <td>214.084000</td>\n",
       "      <td>0.0</td>\n",
       "    </tr>\n",
       "    <tr>\n",
       "      <th>126418</th>\n",
       "      <td>1</td>\n",
       "      <td>(17.0, 17.5]</td>\n",
       "      <td>(-151.5, -151.0]</td>\n",
       "      <td>2010</td>\n",
       "      <td>4.000000</td>\n",
       "      <td>16540.000000</td>\n",
       "      <td>214.057007</td>\n",
       "      <td>0.0</td>\n",
       "    </tr>\n",
       "    <tr>\n",
       "      <th>126419</th>\n",
       "      <td>1</td>\n",
       "      <td>(17.0, 17.5]</td>\n",
       "      <td>(-151.0, -150.5]</td>\n",
       "      <td>2010</td>\n",
       "      <td>3.000000</td>\n",
       "      <td>16550.000000</td>\n",
       "      <td>214.082993</td>\n",
       "      <td>0.0</td>\n",
       "    </tr>\n",
       "    <tr>\n",
       "      <th>126420</th>\n",
       "      <td>1</td>\n",
       "      <td>(17.0, 17.5]</td>\n",
       "      <td>(-150.5, -150.0]</td>\n",
       "      <td>2010</td>\n",
       "      <td>1.000000</td>\n",
       "      <td>16540.000000</td>\n",
       "      <td>214.076004</td>\n",
       "      <td>0.0</td>\n",
       "    </tr>\n",
       "    <tr>\n",
       "      <th>...</th>\n",
       "      <td>...</td>\n",
       "      <td>...</td>\n",
       "      <td>...</td>\n",
       "      <td>...</td>\n",
       "      <td>...</td>\n",
       "      <td>...</td>\n",
       "      <td>...</td>\n",
       "      <td>...</td>\n",
       "    </tr>\n",
       "    <tr>\n",
       "      <th>1018416</th>\n",
       "      <td>5</td>\n",
       "      <td>(70.0, 70.5]</td>\n",
       "      <td>(-67.0, -66.5]</td>\n",
       "      <td>2010</td>\n",
       "      <td>43.000000</td>\n",
       "      <td>31713.333333</td>\n",
       "      <td>223.234339</td>\n",
       "      <td>0.0</td>\n",
       "    </tr>\n",
       "    <tr>\n",
       "      <th>1018417</th>\n",
       "      <td>5</td>\n",
       "      <td>(70.0, 70.5]</td>\n",
       "      <td>(-66.5, -66.0]</td>\n",
       "      <td>2010</td>\n",
       "      <td>35.000000</td>\n",
       "      <td>31846.666667</td>\n",
       "      <td>223.522664</td>\n",
       "      <td>0.0</td>\n",
       "    </tr>\n",
       "    <tr>\n",
       "      <th>1018418</th>\n",
       "      <td>5</td>\n",
       "      <td>(70.0, 70.5]</td>\n",
       "      <td>(-66.0, -65.5]</td>\n",
       "      <td>2010</td>\n",
       "      <td>22.666667</td>\n",
       "      <td>32743.333333</td>\n",
       "      <td>224.683329</td>\n",
       "      <td>0.0</td>\n",
       "    </tr>\n",
       "    <tr>\n",
       "      <th>1018419</th>\n",
       "      <td>5</td>\n",
       "      <td>(70.0, 70.5]</td>\n",
       "      <td>(-65.5, -65.0]</td>\n",
       "      <td>2010</td>\n",
       "      <td>21.000000</td>\n",
       "      <td>32710.000000</td>\n",
       "      <td>224.094498</td>\n",
       "      <td>0.0</td>\n",
       "    </tr>\n",
       "    <tr>\n",
       "      <th>1018420</th>\n",
       "      <td>5</td>\n",
       "      <td>(70.0, 70.5]</td>\n",
       "      <td>(-65.0, -64.5]</td>\n",
       "      <td>2010</td>\n",
       "      <td>15.500000</td>\n",
       "      <td>33380.000000</td>\n",
       "      <td>224.975502</td>\n",
       "      <td>0.0</td>\n",
       "    </tr>\n",
       "  </tbody>\n",
       "</table>\n",
       "<p>97873 rows × 8 columns</p>\n",
       "</div>"
      ],
      "text/plain": [
       "         DOY      latitude         longitude  Year        tcc          pres  \\\n",
       "126416     1  (17.0, 17.5]  (-152.5, -152.0]  2010   3.000000  16540.000000   \n",
       "126417     1  (17.0, 17.5]  (-152.0, -151.5]  2010   4.000000  16540.000000   \n",
       "126418     1  (17.0, 17.5]  (-151.5, -151.0]  2010   4.000000  16540.000000   \n",
       "126419     1  (17.0, 17.5]  (-151.0, -150.5]  2010   3.000000  16550.000000   \n",
       "126420     1  (17.0, 17.5]  (-150.5, -150.0]  2010   1.000000  16540.000000   \n",
       "...      ...           ...               ...   ...        ...           ...   \n",
       "1018416    5  (70.0, 70.5]    (-67.0, -66.5]  2010  43.000000  31713.333333   \n",
       "1018417    5  (70.0, 70.5]    (-66.5, -66.0]  2010  35.000000  31846.666667   \n",
       "1018418    5  (70.0, 70.5]    (-66.0, -65.5]  2010  22.666667  32743.333333   \n",
       "1018419    5  (70.0, 70.5]    (-65.5, -65.0]  2010  21.000000  32710.000000   \n",
       "1018420    5  (70.0, 70.5]    (-65.0, -64.5]  2010  15.500000  33380.000000   \n",
       "\n",
       "                  t  cwork  \n",
       "126416   214.117004    0.0  \n",
       "126417   214.084000    0.0  \n",
       "126418   214.057007    0.0  \n",
       "126419   214.082993    0.0  \n",
       "126420   214.076004    0.0  \n",
       "...             ...    ...  \n",
       "1018416  223.234339    0.0  \n",
       "1018417  223.522664    0.0  \n",
       "1018418  224.683329    0.0  \n",
       "1018419  224.094498    0.0  \n",
       "1018420  224.975502    0.0  \n",
       "\n",
       "[97873 rows x 8 columns]"
      ]
     },
     "execution_count": 5,
     "metadata": {},
     "output_type": "execute_result"
    }
   ],
   "source": [
    "merged_data1"
   ]
  },
  {
   "cell_type": "markdown",
   "metadata": {},
   "source": [
    "### Dataset 3 (6 hr forecast data)"
   ]
  },
  {
   "cell_type": "code",
   "execution_count": 9,
   "metadata": {},
   "outputs": [
    {
     "name": "stdout",
     "output_type": "stream",
     "text": [
      "pgbh06.gdas.20080101-20080105.grb2\n",
      "pgbh06.gdas.20080106-20080110.grb2\n",
      "pgbl06.gdas.20080101-20080105.grb2\n",
      "pgbl06.gdas.20080106-20080110.grb2\n"
     ]
    }
   ],
   "source": [
    "files1 = sorted(os.listdir('/Users/macbook/Documents/SML/Project/ncar6forecast/'))[1:]\n",
    "merged_data2 = pd.DataFrame()\n",
    "\n",
    "for file in files1:\n",
    "    print(file)\n",
    "    data = cfgrib.open_dataset(f'/Users/macbook/Documents/SML/Project/ncar6forecast/{file}', \n",
    "                         backend_kwargs={'filter_by_keys':{'typeOfLevel':'unknown'}})\n",
    "    data_keys = list(data.keys())\n",
    "    data = data.stack(z=(\"time\", \"latitude\", \"longitude\"))\n",
    "    temp_frame = data.indexes[\"z\"].to_frame(index=False)\n",
    "    for key in data_keys:\n",
    "        temp_frame[f\"{key}\"] = getattr(data, key).values.tolist()\n",
    "    temp_frame.dropna(inplace=True)\n",
    "    merged_data2 = merged_data2.append(temp_frame)  "
   ]
  },
  {
   "cell_type": "code",
   "execution_count": 10,
   "metadata": {},
   "outputs": [],
   "source": [
    "merged_data2['DOY'] = merged_data2['time'].dt.dayofyear\n",
    "merged_data2['Year'] = merged_data2['time'].dt.year\n",
    "merged_data2 = merged_data2.groupby(['DOY','latitude','longitude','Year'], as_index=False).mean()\n",
    "merged_data2['longitude'] = merged_data2['longitude'] - 360\n",
    "merged_data2['latitude'] = pd.cut(merged_data2['latitude'], bins=np.arange(17, 71, 0.5).tolist())\n",
    "merged_data2['longitude'] = pd.cut(merged_data2['longitude'], bins=np.arange(-179, -64, 0.5).tolist())\n",
    "merged_data2 = merged_data2.dropna()"
   ]
  },
  {
   "cell_type": "code",
   "execution_count": 11,
   "metadata": {},
   "outputs": [
    {
     "data": {
      "text/html": [
       "<div>\n",
       "<style scoped>\n",
       "    .dataframe tbody tr th:only-of-type {\n",
       "        vertical-align: middle;\n",
       "    }\n",
       "\n",
       "    .dataframe tbody tr th {\n",
       "        vertical-align: top;\n",
       "    }\n",
       "\n",
       "    .dataframe thead th {\n",
       "        text-align: right;\n",
       "    }\n",
       "</style>\n",
       "<table border=\"1\" class=\"dataframe\">\n",
       "  <thead>\n",
       "    <tr style=\"text-align: right;\">\n",
       "      <th></th>\n",
       "      <th>DOY</th>\n",
       "      <th>latitude</th>\n",
       "      <th>longitude</th>\n",
       "      <th>Year</th>\n",
       "      <th>cwat</th>\n",
       "      <th>r</th>\n",
       "      <th>tozne</th>\n",
       "      <th>gh</th>\n",
       "      <th>pwat</th>\n",
       "      <th>paramId_0</th>\n",
       "      <th>pres</th>\n",
       "    </tr>\n",
       "  </thead>\n",
       "  <tbody>\n",
       "    <tr>\n",
       "      <th>0</th>\n",
       "      <td>1</td>\n",
       "      <td>(29.5, 30.0]</td>\n",
       "      <td>(-82.5, -82.0]</td>\n",
       "      <td>2008</td>\n",
       "      <td>0.03</td>\n",
       "      <td>43.0</td>\n",
       "      <td>239.600006</td>\n",
       "      <td>3732.959961</td>\n",
       "      <td>31.900000</td>\n",
       "      <td>49.0</td>\n",
       "      <td>60560.0</td>\n",
       "    </tr>\n",
       "    <tr>\n",
       "      <th>1</th>\n",
       "      <td>1</td>\n",
       "      <td>(29.5, 30.0]</td>\n",
       "      <td>(-82.0, -81.5]</td>\n",
       "      <td>2008</td>\n",
       "      <td>0.00</td>\n",
       "      <td>45.0</td>\n",
       "      <td>238.300003</td>\n",
       "      <td>3764.800049</td>\n",
       "      <td>33.400002</td>\n",
       "      <td>38.0</td>\n",
       "      <td>60550.0</td>\n",
       "    </tr>\n",
       "    <tr>\n",
       "      <th>2</th>\n",
       "      <td>1</td>\n",
       "      <td>(29.5, 30.0]</td>\n",
       "      <td>(-81.0, -80.5]</td>\n",
       "      <td>2008</td>\n",
       "      <td>0.00</td>\n",
       "      <td>45.0</td>\n",
       "      <td>236.699997</td>\n",
       "      <td>3912.959961</td>\n",
       "      <td>34.700001</td>\n",
       "      <td>40.0</td>\n",
       "      <td>57320.0</td>\n",
       "    </tr>\n",
       "    <tr>\n",
       "      <th>3</th>\n",
       "      <td>1</td>\n",
       "      <td>(29.5, 30.0]</td>\n",
       "      <td>(-80.5, -80.0]</td>\n",
       "      <td>2008</td>\n",
       "      <td>0.00</td>\n",
       "      <td>45.0</td>\n",
       "      <td>236.500000</td>\n",
       "      <td>3976.000000</td>\n",
       "      <td>35.299999</td>\n",
       "      <td>51.0</td>\n",
       "      <td>45880.0</td>\n",
       "    </tr>\n",
       "    <tr>\n",
       "      <th>4</th>\n",
       "      <td>1</td>\n",
       "      <td>(29.5, 30.0]</td>\n",
       "      <td>(-80.0, -79.5]</td>\n",
       "      <td>2008</td>\n",
       "      <td>0.10</td>\n",
       "      <td>47.0</td>\n",
       "      <td>235.300003</td>\n",
       "      <td>4001.600098</td>\n",
       "      <td>35.900002</td>\n",
       "      <td>40.0</td>\n",
       "      <td>60200.0</td>\n",
       "    </tr>\n",
       "    <tr>\n",
       "      <th>...</th>\n",
       "      <td>...</td>\n",
       "      <td>...</td>\n",
       "      <td>...</td>\n",
       "      <td>...</td>\n",
       "      <td>...</td>\n",
       "      <td>...</td>\n",
       "      <td>...</td>\n",
       "      <td>...</td>\n",
       "      <td>...</td>\n",
       "      <td>...</td>\n",
       "      <td>...</td>\n",
       "    </tr>\n",
       "    <tr>\n",
       "      <th>5611</th>\n",
       "      <td>9</td>\n",
       "      <td>(48.0, 48.5]</td>\n",
       "      <td>(-123.0, -122.5]</td>\n",
       "      <td>2008</td>\n",
       "      <td>0.18</td>\n",
       "      <td>35.0</td>\n",
       "      <td>343.799988</td>\n",
       "      <td>650.559998</td>\n",
       "      <td>10.900000</td>\n",
       "      <td>46.0</td>\n",
       "      <td>69720.0</td>\n",
       "    </tr>\n",
       "    <tr>\n",
       "      <th>5612</th>\n",
       "      <td>9</td>\n",
       "      <td>(48.0, 48.5]</td>\n",
       "      <td>(-81.5, -81.0]</td>\n",
       "      <td>2008</td>\n",
       "      <td>0.89</td>\n",
       "      <td>45.0</td>\n",
       "      <td>316.399994</td>\n",
       "      <td>231.839996</td>\n",
       "      <td>15.700000</td>\n",
       "      <td>25.0</td>\n",
       "      <td>43770.0</td>\n",
       "    </tr>\n",
       "    <tr>\n",
       "      <th>5613</th>\n",
       "      <td>9</td>\n",
       "      <td>(48.0, 48.5]</td>\n",
       "      <td>(-81.0, -80.5]</td>\n",
       "      <td>2008</td>\n",
       "      <td>0.87</td>\n",
       "      <td>47.0</td>\n",
       "      <td>313.100006</td>\n",
       "      <td>1845.439941</td>\n",
       "      <td>16.799999</td>\n",
       "      <td>12.0</td>\n",
       "      <td>46520.0</td>\n",
       "    </tr>\n",
       "    <tr>\n",
       "      <th>5614</th>\n",
       "      <td>9</td>\n",
       "      <td>(48.5, 49.0]</td>\n",
       "      <td>(-127.5, -127.0]</td>\n",
       "      <td>2008</td>\n",
       "      <td>0.06</td>\n",
       "      <td>32.0</td>\n",
       "      <td>386.000000</td>\n",
       "      <td>683.200012</td>\n",
       "      <td>9.700000</td>\n",
       "      <td>30.0</td>\n",
       "      <td>67550.0</td>\n",
       "    </tr>\n",
       "    <tr>\n",
       "      <th>5615</th>\n",
       "      <td>9</td>\n",
       "      <td>(48.5, 49.0]</td>\n",
       "      <td>(-123.0, -122.5]</td>\n",
       "      <td>2008</td>\n",
       "      <td>0.12</td>\n",
       "      <td>32.0</td>\n",
       "      <td>346.600006</td>\n",
       "      <td>620.320007</td>\n",
       "      <td>9.600000</td>\n",
       "      <td>24.0</td>\n",
       "      <td>69290.0</td>\n",
       "    </tr>\n",
       "  </tbody>\n",
       "</table>\n",
       "<p>5616 rows × 11 columns</p>\n",
       "</div>"
      ],
      "text/plain": [
       "      DOY      latitude         longitude  Year  cwat     r       tozne  \\\n",
       "0       1  (29.5, 30.0]    (-82.5, -82.0]  2008  0.03  43.0  239.600006   \n",
       "1       1  (29.5, 30.0]    (-82.0, -81.5]  2008  0.00  45.0  238.300003   \n",
       "2       1  (29.5, 30.0]    (-81.0, -80.5]  2008  0.00  45.0  236.699997   \n",
       "3       1  (29.5, 30.0]    (-80.5, -80.0]  2008  0.00  45.0  236.500000   \n",
       "4       1  (29.5, 30.0]    (-80.0, -79.5]  2008  0.10  47.0  235.300003   \n",
       "...   ...           ...               ...   ...   ...   ...         ...   \n",
       "5611    9  (48.0, 48.5]  (-123.0, -122.5]  2008  0.18  35.0  343.799988   \n",
       "5612    9  (48.0, 48.5]    (-81.5, -81.0]  2008  0.89  45.0  316.399994   \n",
       "5613    9  (48.0, 48.5]    (-81.0, -80.5]  2008  0.87  47.0  313.100006   \n",
       "5614    9  (48.5, 49.0]  (-127.5, -127.0]  2008  0.06  32.0  386.000000   \n",
       "5615    9  (48.5, 49.0]  (-123.0, -122.5]  2008  0.12  32.0  346.600006   \n",
       "\n",
       "               gh       pwat  paramId_0     pres  \n",
       "0     3732.959961  31.900000       49.0  60560.0  \n",
       "1     3764.800049  33.400002       38.0  60550.0  \n",
       "2     3912.959961  34.700001       40.0  57320.0  \n",
       "3     3976.000000  35.299999       51.0  45880.0  \n",
       "4     4001.600098  35.900002       40.0  60200.0  \n",
       "...           ...        ...        ...      ...  \n",
       "5611   650.559998  10.900000       46.0  69720.0  \n",
       "5612   231.839996  15.700000       25.0  43770.0  \n",
       "5613  1845.439941  16.799999       12.0  46520.0  \n",
       "5614   683.200012   9.700000       30.0  67550.0  \n",
       "5615   620.320007   9.600000       24.0  69290.0  \n",
       "\n",
       "[5616 rows x 11 columns]"
      ]
     },
     "execution_count": 11,
     "metadata": {},
     "output_type": "execute_result"
    }
   ],
   "source": [
    "merged_data2"
   ]
  },
  {
   "cell_type": "code",
   "execution_count": null,
   "metadata": {},
   "outputs": [],
   "source": []
  }
 ],
 "metadata": {
  "kernelspec": {
   "display_name": "Python 3",
   "language": "python",
   "name": "python3"
  },
  "language_info": {
   "codemirror_mode": {
    "name": "ipython",
    "version": 3
   },
   "file_extension": ".py",
   "mimetype": "text/x-python",
   "name": "python",
   "nbconvert_exporter": "python",
   "pygments_lexer": "ipython3",
   "version": "3.7.4"
  }
 },
 "nbformat": 4,
 "nbformat_minor": 5
}
