{
  "nbformat": 4,
  "nbformat_minor": 5,
  "metadata": {
    "kernelspec": {
      "display_name": "Python 3",
      "language": "python",
      "name": "python3"
    },
    "language_info": {
      "codemirror_mode": {
        "name": "ipython",
        "version": 3
      },
      "file_extension": ".py",
      "mimetype": "text/x-python",
      "name": "python",
      "nbconvert_exporter": "python",
      "pygments_lexer": "ipython3",
      "version": "3.8.5"
    },
    "colab": {
      "name": "Project_classifiers.ipynb",
      "provenance": [],
      "collapsed_sections": []
    }
  },
  "cells": [
    {
      "cell_type": "code",
      "metadata": {
        "id": "potential-flood"
      },
      "source": [
        "import numpy as np\n",
        "import pandas as pd\n",
        "import matplotlib.pyplot as plt\n",
        "from sklearn.ensemble import IsolationForest\n",
        "from sklearn.neighbors import LocalOutlierFactor, KNeighborsClassifier\n",
        "from sklearn.covariance import EmpiricalCovariance, EllipticEnvelope\n",
        "from sklearn.metrics import normalized_mutual_info_score\n",
        "from sklearn.pipeline import Pipeline\n",
        "from sklearn.linear_model import LogisticRegression, SGDClassifier\n",
        "from sklearn.preprocessing import StandardScaler, RobustScaler, PolynomialFeatures, MinMaxScaler\n",
        "from sklearn.metrics import precision_score, recall_score, f1_score, precision_recall_curve, plot_precision_recall_curve, confusion_matrix\n",
        "from sklearn.impute import SimpleImputer\n",
        "from sklearn.svm import SVC, LinearSVC\n",
        "from sklearn.ensemble import ExtraTreesClassifier, RandomForestClassifier, GradientBoostingClassifier, AdaBoostClassifier, VotingClassifier\n",
        "from xgboost import XGBClassifier\n",
        "import datetime, time"
      ],
      "id": "potential-flood",
      "execution_count": 2,
      "outputs": []
    },
    {
      "cell_type": "code",
      "metadata": {
        "id": "blond-florida"
      },
      "source": [
        "fire_df = pd.read_csv(\"dataset_new.csv\")"
      ],
      "id": "blond-florida",
      "execution_count": null,
      "outputs": []
    },
    {
      "cell_type": "code",
      "metadata": {
        "id": "guilty-timber"
      },
      "source": [
        "fire_df = fire_df.drop(columns=['pres','paramId_0'])"
      ],
      "id": "guilty-timber",
      "execution_count": null,
      "outputs": []
    },
    {
      "cell_type": "code",
      "metadata": {
        "id": "pursuant-export"
      },
      "source": [
        "fire_df = fire_df.astype({'time': 'datetime64[ns]'})"
      ],
      "id": "pursuant-export",
      "execution_count": null,
      "outputs": []
    },
    {
      "cell_type": "code",
      "metadata": {
        "id": "expected-waterproof"
      },
      "source": [
        "temp_df = fire_df.drop(columns=['latitude','longitude','paramId_0'])"
      ],
      "id": "expected-waterproof",
      "execution_count": null,
      "outputs": []
    },
    {
      "cell_type": "code",
      "metadata": {
        "id": "about-friday"
      },
      "source": [
        "fire_df['DOY'] = fire_df['time'].dt.dayofyear\n",
        "fire_df['Year'] = fire_df['time'].dt.year\n",
        "fire_df = fire_df.groupby(['DOY','latitude','longitude','Year'], as_index=False).mean()\n",
        "fire_df['longitude'] = fire_df['longitude'] - 360\n",
        "fire_df['latitude'] = pd.cut(fire_df['latitude'], bins=np.arange(17, 71, 0.5).tolist())\n",
        "fire_df['longitude'] = pd.cut(fire_df['longitude'], bins=np.arange(-179, -64, 0.5).tolist())\n",
        "fires = pd.read_csv('/Users/macbook/Documents/SML/Project/Fires.csv')\n",
        "fires['LATITUDE'] = pd.cut(fires['LATITUDE'], bins=np.arange(17, 71, 0.5).tolist())\n",
        "fires['LONGITUDE'] = pd.cut(fires['LONGITUDE'], bins=np.arange(-179, -64, 0.5).tolist())\n",
        "fires['fire'] = 1\n",
        "fires = fires.drop_duplicates()\n",
        "Xy = pd.merge(fire_df, fires, how='left', \n",
        "         left_on=['DOY','latitude','longitude','Year'], \n",
        "         right_on=['DISCOVERY_DOY','LATITUDE','LONGITUDE','FIRE_YEAR']).drop(columns = ['DISCOVERY_DOY','LATITUDE','LONGITUDE','FIRE_YEAR'])\n",
        "\n",
        "Xy['fire'] = Xy['fire'].fillna(0)"
      ],
      "id": "about-friday",
      "execution_count": null,
      "outputs": []
    },
    {
      "cell_type": "code",
      "metadata": {
        "id": "tamil-alexander"
      },
      "source": [
        "fire_class = Xy[\"fire\"]\n",
        "fire_features = Xy.drop(columns=['fire','latitude','longitude'])"
      ],
      "id": "tamil-alexander",
      "execution_count": null,
      "outputs": []
    },
    {
      "cell_type": "code",
      "metadata": {
        "id": "juvenile-consumer"
      },
      "source": [
        "feature_train = fire_features[fire_features[\"Year\"] < 2009]\n",
        "feature_test = fire_features[fire_features[\"Year\"] >= 2009]\n",
        "\n",
        "target_train = fire_class[fire_features[\"Year\"] < 2009]\n",
        "target_test = fire_class[fire_features[\"Year\"] >= 2009] "
      ],
      "id": "juvenile-consumer",
      "execution_count": null,
      "outputs": []
    },
    {
      "cell_type": "markdown",
      "metadata": {
        "id": "Kx8KN_ykoXy8"
      },
      "source": [
        "Checked with some Anomaly detection algorithms, didn't work"
      ],
      "id": "Kx8KN_ykoXy8"
    },
    {
      "cell_type": "code",
      "metadata": {
        "id": "elementary-niger",
        "outputId": "34eea2a5-6a07-49a9-8fd2-93bb1876d348"
      },
      "source": [
        "pipe = Pipeline([('scaler', StandardScaler()), ('iso', IsolationForest())])\n",
        "target_train_pred = pipe.fit_predict(feature_train)\n",
        "target_train_pred[target_train_pred==1] = 0\n",
        "target_train_pred[target_train_pred==-1] = 1\n",
        "normalized_mutual_info_score(target_train, target_train_pred)"
      ],
      "id": "elementary-niger",
      "execution_count": null,
      "outputs": [
        {
          "output_type": "execute_result",
          "data": {
            "text/plain": [
              "0.007208316793123187"
            ]
          },
          "metadata": {
            "tags": []
          },
          "execution_count": 124
        }
      ]
    },
    {
      "cell_type": "code",
      "metadata": {
        "id": "promising-exhaust",
        "outputId": "7854a322-f511-4142-d694-ee9455e006a9"
      },
      "source": [
        "pipe = Pipeline([('scaler', StandardScaler()), ('lof', LocalOutlierFactor(n_neighbors=10))])\n",
        "target_train_pred = pipe.fit_predict(feature_train)\n",
        "target_train_pred[target_train_pred==1] = 0\n",
        "target_train_pred[target_train_pred==-1] = 1\n",
        "normalized_mutual_info_score(target_train, target_train_pred)"
      ],
      "id": "promising-exhaust",
      "execution_count": null,
      "outputs": [
        {
          "output_type": "execute_result",
          "data": {
            "text/plain": [
              "0.0002454427013110006"
            ]
          },
          "metadata": {
            "tags": []
          },
          "execution_count": 126
        }
      ]
    },
    {
      "cell_type": "markdown",
      "metadata": {
        "id": "XIDVVDF6ojey"
      },
      "source": [
        "Classifiers:\n",
        "1. Logistic Reg"
      ],
      "id": "XIDVVDF6ojey"
    },
    {
      "cell_type": "code",
      "metadata": {
        "id": "hairy-dinner",
        "outputId": "52ae75b5-9960-41f0-985c-c47f0efe046e"
      },
      "source": [
        "pipe_log = Pipeline([('poly', PolynomialFeatures(3)),\n",
        "                     ('scaler', RobustScaler()),\n",
        "                     ('log', LogisticRegression(class_weight = \"balanced\", max_iter=700))])\n",
        "pipe_log.fit(feature_train, target_train)\n",
        "\n",
        "# Accuracies of Training and Test Set \n",
        "print(\"Training set accuracy:\", np.round(pipe_log.score(feature_train, \n",
        "                                                       target_train), 4))\n",
        "print(\"Testa set accuracy:\", np.round(pipe_log.score(feature_test, target_test),\n",
        "                                     4))\n",
        "\n",
        "# Precision and Recall of the Training Set\n",
        "target_pred_train_log = pipe_log.predict(feature_train)\n",
        "print(\"Training Set Precision:\", np.round(precision_score(target_train, \n",
        "                                                    target_pred_train_log), 4))\n",
        "print(\"Training Set Recall:\", np.round(recall_score(target_train, \n",
        "                                                    target_pred_train_log), 4))\n",
        "print(\"Training Set F1 Score:\", np.round(f1_score(target_train, \n",
        "                                                    target_pred_train_log), 4))\n",
        "\n",
        "# Precision and Recall of the Test Set\n",
        "target_pred_test_log = pipe_log.predict(feature_test)\n",
        "print(\"Test Set Precision:\", np.round(precision_score(target_test, \n",
        "                                                      target_pred_test_log), 4))\n",
        "print(\"Test Set Recall:\", np.round(recall_score(target_test, \n",
        "                                                target_pred_test_log), 4))\n",
        "print(\"Test Set F1 Score:\", np.round(f1_score(target_test, \n",
        "                                                    target_pred_test_log), 4))"
      ],
      "id": "hairy-dinner",
      "execution_count": null,
      "outputs": [
        {
          "output_type": "stream",
          "text": [
            "/Users/macbook/opt/anaconda3/lib/python3.8/site-packages/sklearn/linear_model/_logistic.py:762: ConvergenceWarning: lbfgs failed to converge (status=1):\n",
            "STOP: TOTAL NO. of ITERATIONS REACHED LIMIT.\n",
            "\n",
            "Increase the number of iterations (max_iter) or scale the data as shown in:\n",
            "    https://scikit-learn.org/stable/modules/preprocessing.html\n",
            "Please also refer to the documentation for alternative solver options:\n",
            "    https://scikit-learn.org/stable/modules/linear_model.html#logistic-regression\n",
            "  n_iter_i = _check_optimize_result(\n"
          ],
          "name": "stderr"
        },
        {
          "output_type": "stream",
          "text": [
            "Training set accuracy: 0.5905\n",
            "Test set accuracy: 0.5742\n",
            "Training Set Precision: 0.0653\n",
            "Training Set Recall: 0.798\n",
            "Training Set F1 Score: 0.1207\n",
            "Test Set Precision: 0.0516\n",
            "Test Set Recall: 0.8112\n",
            "Test Set F1 Score: 0.097\n"
          ],
          "name": "stdout"
        }
      ]
    },
    {
      "cell_type": "markdown",
      "metadata": {
        "id": "GW5M2AfAoq6q"
      },
      "source": [
        "Using only 10 day dataset, and filtering out the redundant parameters:"
      ],
      "id": "GW5M2AfAoq6q"
    },
    {
      "cell_type": "code",
      "metadata": {
        "id": "PEneEPi-0Lrs"
      },
      "source": [
        "tenday_df = pd.read_csv(\"bestgeo_sametime_10day.csv\")"
      ],
      "id": "PEneEPi-0Lrs",
      "execution_count": 3,
      "outputs": []
    },
    {
      "cell_type": "code",
      "metadata": {
        "colab": {
          "base_uri": "https://localhost:8080/"
        },
        "id": "uESgSDwMUZeM",
        "outputId": "49ca6ced-2ec5-4eec-d1a7-f8eaff3c5b2c"
      },
      "source": [
        "tenday_df['fire'].value_counts()"
      ],
      "id": "uESgSDwMUZeM",
      "execution_count": 4,
      "outputs": [
        {
          "output_type": "execute_result",
          "data": {
            "text/plain": [
              "0    147611\n",
              "1     28684\n",
              "Name: fire, dtype: int64"
            ]
          },
          "metadata": {
            "tags": []
          },
          "execution_count": 4
        }
      ]
    },
    {
      "cell_type": "code",
      "metadata": {
        "id": "sNJULr3lO1oR"
      },
      "source": [
        "tenday_df = pd.read_csv(\"bestgeo_sametime_5day.csv\")"
      ],
      "id": "sNJULr3lO1oR",
      "execution_count": 8,
      "outputs": []
    },
    {
      "cell_type": "code",
      "metadata": {
        "id": "4EA4nKcsQmQ8"
      },
      "source": [
        "tenday_df = pd.read_csv(\"bestgeo_sametime_3day.csv\")"
      ],
      "id": "4EA4nKcsQmQ8",
      "execution_count": 15,
      "outputs": []
    },
    {
      "cell_type": "code",
      "metadata": {
        "id": "4zA6h7YaMFrn"
      },
      "source": [
        "tenday_df"
      ],
      "id": "4zA6h7YaMFrn",
      "execution_count": null,
      "outputs": []
    },
    {
      "cell_type": "code",
      "metadata": {
        "id": "hr8wD7hErjjM"
      },
      "source": [
        "tenday_df['latitude'] = pd.qcut(tenday_df['latitude'], 15, labels=False)\n",
        "tenday_df['longitude'] = pd.qcut(tenday_df['longitude'], 15, labels=False)"
      ],
      "id": "hr8wD7hErjjM",
      "execution_count": null,
      "outputs": []
    },
    {
      "cell_type": "code",
      "metadata": {
        "id": "valuable-tongue"
      },
      "source": [
        "tenday_features_full = tenday_df.drop(columns=[\"index_3day\", \"latitude\", \"longitude\",\n",
        "                                               \"('time', 'first')\",\"('time', 'last')\",\n",
        "                                               \"('Year', 'last')\",\"('paramId_0', 'amin')\",\n",
        "                                               \"('paramId_0', 'amax')\",\"('paramId_0', 'mean')\",\n",
        "                                               \"('paramId_0', 'var')\",\"('month', '<lambda>')\",\n",
        "                                               \"('macro_season', '<lambda>')\",\n",
        "                                               \"('DOY', 'last')\",\"fire\"])\n",
        "tenday_target = tenday_df['fire']\n",
        "\n",
        "tenday_full_train = tenday_features_full[tenday_df.iloc[:,7] < 2009]\n",
        "tenday_full_test = tenday_features_full[tenday_df.iloc[:,7] >= 2009]\n",
        "\n",
        "tenday_target_train = tenday_target[tenday_df.iloc[:,7] < 2009]\n",
        "tenday_target_test = tenday_target[tenday_df.iloc[:,7] >= 2009]"
      ],
      "id": "valuable-tongue",
      "execution_count": 16,
      "outputs": []
    },
    {
      "cell_type": "code",
      "metadata": {
        "colab": {
          "base_uri": "https://localhost:8080/"
        },
        "id": "cTvKPLR19V6C",
        "outputId": "13cf4ed3-876d-4e62-ee17-bb0ed98d5724"
      },
      "source": [
        "tenday_target_test.value_counts()"
      ],
      "id": "cTvKPLR19V6C",
      "execution_count": null,
      "outputs": [
        {
          "output_type": "execute_result",
          "data": {
            "text/plain": [
              "0    30276\n",
              "1     4983\n",
              "Name: fire, dtype: int64"
            ]
          },
          "metadata": {
            "tags": []
          },
          "execution_count": 4
        }
      ]
    },
    {
      "cell_type": "code",
      "metadata": {
        "colab": {
          "base_uri": "https://localhost:8080/",
          "height": 241
        },
        "id": "evmdwFRg-owu",
        "outputId": "2ab0a6f1-e259-4093-eba8-4cd5e3cf8ec8"
      },
      "source": [
        "tenday_full_train.head()"
      ],
      "id": "evmdwFRg-owu",
      "execution_count": null,
      "outputs": [
        {
          "output_type": "execute_result",
          "data": {
            "text/html": [
              "<div>\n",
              "<style scoped>\n",
              "    .dataframe tbody tr th:only-of-type {\n",
              "        vertical-align: middle;\n",
              "    }\n",
              "\n",
              "    .dataframe tbody tr th {\n",
              "        vertical-align: top;\n",
              "    }\n",
              "\n",
              "    .dataframe thead th {\n",
              "        text-align: right;\n",
              "    }\n",
              "</style>\n",
              "<table border=\"1\" class=\"dataframe\">\n",
              "  <thead>\n",
              "    <tr style=\"text-align: right;\">\n",
              "      <th></th>\n",
              "      <th>('DOY', 'first')</th>\n",
              "      <th>('Year', 'first')</th>\n",
              "      <th>('cwat', 'amin')</th>\n",
              "      <th>('cwat', 'amax')</th>\n",
              "      <th>('cwat', 'mean')</th>\n",
              "      <th>('cwat', 'var')</th>\n",
              "      <th>('r', 'amin')</th>\n",
              "      <th>('r', 'amax')</th>\n",
              "      <th>('r', 'mean')</th>\n",
              "      <th>('r', 'var')</th>\n",
              "      <th>('tozne', 'amin')</th>\n",
              "      <th>('tozne', 'amax')</th>\n",
              "      <th>('tozne', 'mean')</th>\n",
              "      <th>('tozne', 'var')</th>\n",
              "      <th>('gh', 'amin')</th>\n",
              "      <th>('gh', 'amax')</th>\n",
              "      <th>('gh', 'mean')</th>\n",
              "      <th>('gh', 'var')</th>\n",
              "      <th>('pwat', 'amin')</th>\n",
              "      <th>('pwat', 'amax')</th>\n",
              "      <th>('pwat', 'mean')</th>\n",
              "      <th>('pwat', 'var')</th>\n",
              "      <th>('pres', 'amin')</th>\n",
              "      <th>('pres', 'amax')</th>\n",
              "      <th>('pres', 'mean')</th>\n",
              "      <th>('pres', 'var')</th>\n",
              "      <th>('pres', 'count')</th>\n",
              "      <th>fire</th>\n",
              "    </tr>\n",
              "  </thead>\n",
              "  <tbody>\n",
              "    <tr>\n",
              "      <th>0</th>\n",
              "      <td>1</td>\n",
              "      <td>2001</td>\n",
              "      <td>0.0</td>\n",
              "      <td>0.42</td>\n",
              "      <td>0.10325</td>\n",
              "      <td>0.009705</td>\n",
              "      <td>8.0</td>\n",
              "      <td>48.0</td>\n",
              "      <td>21.625</td>\n",
              "      <td>124.189103</td>\n",
              "      <td>263.500000</td>\n",
              "      <td>304.299988</td>\n",
              "      <td>275.714999</td>\n",
              "      <td>55.564852</td>\n",
              "      <td>1996.160034</td>\n",
              "      <td>4595.839844</td>\n",
              "      <td>3437.303995</td>\n",
              "      <td>375561.694036</td>\n",
              "      <td>6.0</td>\n",
              "      <td>28.500000</td>\n",
              "      <td>13.6700</td>\n",
              "      <td>37.680100</td>\n",
              "      <td>34430.0</td>\n",
              "      <td>34430.0</td>\n",
              "      <td>34430.000000</td>\n",
              "      <td>NaN</td>\n",
              "      <td>1</td>\n",
              "      <td>0</td>\n",
              "    </tr>\n",
              "    <tr>\n",
              "      <th>1</th>\n",
              "      <td>11</td>\n",
              "      <td>2001</td>\n",
              "      <td>0.0</td>\n",
              "      <td>0.22</td>\n",
              "      <td>0.07200</td>\n",
              "      <td>0.005263</td>\n",
              "      <td>10.0</td>\n",
              "      <td>35.0</td>\n",
              "      <td>23.425</td>\n",
              "      <td>35.789103</td>\n",
              "      <td>270.799988</td>\n",
              "      <td>360.100006</td>\n",
              "      <td>299.162502</td>\n",
              "      <td>499.005931</td>\n",
              "      <td>1412.479980</td>\n",
              "      <td>3907.840088</td>\n",
              "      <td>3023.840012</td>\n",
              "      <td>392217.477221</td>\n",
              "      <td>7.1</td>\n",
              "      <td>18.299999</td>\n",
              "      <td>13.1850</td>\n",
              "      <td>7.657718</td>\n",
              "      <td>61430.0</td>\n",
              "      <td>62960.0</td>\n",
              "      <td>62443.333333</td>\n",
              "      <td>7.702333e+05</td>\n",
              "      <td>3</td>\n",
              "      <td>0</td>\n",
              "    </tr>\n",
              "    <tr>\n",
              "      <th>2</th>\n",
              "      <td>21</td>\n",
              "      <td>2001</td>\n",
              "      <td>0.0</td>\n",
              "      <td>0.43</td>\n",
              "      <td>0.05825</td>\n",
              "      <td>0.007605</td>\n",
              "      <td>13.0</td>\n",
              "      <td>55.0</td>\n",
              "      <td>27.250</td>\n",
              "      <td>77.935897</td>\n",
              "      <td>244.000000</td>\n",
              "      <td>334.700012</td>\n",
              "      <td>294.970002</td>\n",
              "      <td>687.441196</td>\n",
              "      <td>1434.560059</td>\n",
              "      <td>3530.560059</td>\n",
              "      <td>2666.500000</td>\n",
              "      <td>428711.746884</td>\n",
              "      <td>7.8</td>\n",
              "      <td>22.600000</td>\n",
              "      <td>14.3550</td>\n",
              "      <td>16.905103</td>\n",
              "      <td>65030.0</td>\n",
              "      <td>75960.0</td>\n",
              "      <td>71433.333333</td>\n",
              "      <td>3.250763e+07</td>\n",
              "      <td>3</td>\n",
              "      <td>0</td>\n",
              "    </tr>\n",
              "    <tr>\n",
              "      <th>3</th>\n",
              "      <td>31</td>\n",
              "      <td>2001</td>\n",
              "      <td>0.0</td>\n",
              "      <td>0.32</td>\n",
              "      <td>0.03575</td>\n",
              "      <td>0.005051</td>\n",
              "      <td>7.0</td>\n",
              "      <td>29.0</td>\n",
              "      <td>17.275</td>\n",
              "      <td>34.871154</td>\n",
              "      <td>264.399994</td>\n",
              "      <td>348.000000</td>\n",
              "      <td>308.012503</td>\n",
              "      <td>724.518117</td>\n",
              "      <td>1338.880005</td>\n",
              "      <td>3921.919922</td>\n",
              "      <td>3329.412003</td>\n",
              "      <td>368061.030616</td>\n",
              "      <td>4.7</td>\n",
              "      <td>20.100000</td>\n",
              "      <td>11.1450</td>\n",
              "      <td>14.892795</td>\n",
              "      <td>NaN</td>\n",
              "      <td>NaN</td>\n",
              "      <td>NaN</td>\n",
              "      <td>NaN</td>\n",
              "      <td>0</td>\n",
              "      <td>0</td>\n",
              "    </tr>\n",
              "    <tr>\n",
              "      <th>4</th>\n",
              "      <td>41</td>\n",
              "      <td>2001</td>\n",
              "      <td>0.0</td>\n",
              "      <td>0.69</td>\n",
              "      <td>0.11475</td>\n",
              "      <td>0.025159</td>\n",
              "      <td>18.0</td>\n",
              "      <td>50.0</td>\n",
              "      <td>27.250</td>\n",
              "      <td>39.987179</td>\n",
              "      <td>278.700012</td>\n",
              "      <td>407.299988</td>\n",
              "      <td>334.750002</td>\n",
              "      <td>1495.393708</td>\n",
              "      <td>1112.160034</td>\n",
              "      <td>3168.800049</td>\n",
              "      <td>2183.276001</td>\n",
              "      <td>400916.670683</td>\n",
              "      <td>10.3</td>\n",
              "      <td>28.000000</td>\n",
              "      <td>15.1125</td>\n",
              "      <td>15.711378</td>\n",
              "      <td>41470.0</td>\n",
              "      <td>76180.0</td>\n",
              "      <td>57815.000000</td>\n",
              "      <td>2.113109e+08</td>\n",
              "      <td>10</td>\n",
              "      <td>0</td>\n",
              "    </tr>\n",
              "  </tbody>\n",
              "</table>\n",
              "</div>"
            ],
            "text/plain": [
              "   ('DOY', 'first')  ('Year', 'first')  ...  ('pres', 'count')  fire\n",
              "0                 1               2001  ...                  1     0\n",
              "1                11               2001  ...                  3     0\n",
              "2                21               2001  ...                  3     0\n",
              "3                31               2001  ...                  0     0\n",
              "4                41               2001  ...                 10     0\n",
              "\n",
              "[5 rows x 28 columns]"
            ]
          },
          "metadata": {
            "tags": []
          },
          "execution_count": 12
        }
      ]
    },
    {
      "cell_type": "markdown",
      "metadata": {
        "id": "DU1ZDUKlo4ao"
      },
      "source": [
        "SVM, Ensemble and Boosting Classifiers:"
      ],
      "id": "DU1ZDUKlo4ao"
    },
    {
      "cell_type": "code",
      "metadata": {
        "id": "interested-wright"
      },
      "source": [
        "clf_log_10day_full = Pipeline([('imp', SimpleImputer(strategy = \"mean\")),\n",
        "                               ('poly', PolynomialFeatures(2)),\n",
        "                               ('scaler', StandardScaler()),\n",
        "                               ('log', LogisticRegression(class_weight = \"balanced\", max_iter=10000))])\n",
        "clf_log_10day_full.fit(tenday_full_train, tenday_target_train)"
      ],
      "id": "interested-wright",
      "execution_count": null,
      "outputs": []
    },
    {
      "cell_type": "code",
      "metadata": {
        "colab": {
          "base_uri": "https://localhost:8080/"
        },
        "id": "Gf3D169FpU18",
        "outputId": "e339d08b-9f09-47fe-f1ff-b22d11f558ea"
      },
      "source": [
        "# Accuracies of Training and Test Set \n",
        "print(\"Training set accuracy:\", np.round(clf_log_10day_full.score(tenday_full_train, \n",
        "                                                       tenday_target_train), 4))\n",
        "print(\"Test set accuracy:\", np.round(clf_log_10day_full.score(tenday_full_test,\n",
        "                                                        tenday_target_test), 4))\n",
        "\n",
        "# Precision and Recall of the Training Set\n",
        "target_pred_train_log = clf_log_10day_full.predict(tenday_full_train)\n",
        "print(\"Training Set Precision:\", np.round(precision_score(tenday_target_train, \n",
        "                                                    target_pred_train_log), 4))\n",
        "print(\"Training Set Recall:\", np.round(recall_score(tenday_target_train, \n",
        "                                                    target_pred_train_log), 4))\n",
        "print(\"Training Set F1 Score:\", np.round(f1_score(tenday_target_train, \n",
        "                                                    target_pred_train_log), 4))\n",
        "\n",
        "# Precision and Recall of the Test Set\n",
        "target_pred_test_log = clf_log_10day_full.predict(tenday_full_test)\n",
        "print(\"Test Set Precision:\", np.round(precision_score(tenday_target_test, \n",
        "                                                      target_pred_test_log), 4))\n",
        "print(\"Test Set Recall:\", np.round(recall_score(tenday_target_test, \n",
        "                                                target_pred_test_log), 4))\n",
        "print(\"Test Set F1 Score:\", np.round(f1_score(tenday_target_test, \n",
        "                                                    target_pred_test_log), 4))"
      ],
      "id": "Gf3D169FpU18",
      "execution_count": null,
      "outputs": [
        {
          "output_type": "stream",
          "text": [
            "Training set accuracy: 0.6986\n",
            "Test set accuracy: 0.6828\n",
            "Training Set Precision: 0.3322\n",
            "Training Set Recall: 0.7857\n",
            "Training Set F1 Score: 0.467\n",
            "Test Set Precision: 0.2785\n",
            "Test Set Recall: 0.7823\n",
            "Test Set F1 Score: 0.4107\n"
          ],
          "name": "stdout"
        }
      ]
    },
    {
      "cell_type": "code",
      "metadata": {
        "id": "P4tBhPouo_nO"
      },
      "source": [
        "clf_svc_10day_full = Pipeline([('imp', SimpleImputer(strategy = \"mean\")),\n",
        "                               ('scaler', StandardScaler()),\n",
        "                               ('svm', SVC())])\n",
        "clf_svc_10day_full.fit(tenday_full_train, tenday_target_train)"
      ],
      "id": "P4tBhPouo_nO",
      "execution_count": null,
      "outputs": []
    },
    {
      "cell_type": "code",
      "metadata": {
        "colab": {
          "base_uri": "https://localhost:8080/"
        },
        "id": "tdxYj_gKC3Bj",
        "outputId": "aae6684b-755d-4bcd-a071-6062b43c49a1"
      },
      "source": [
        "# Accuracies of Training and Test Set \n",
        "print(\"Training set accuracy:\", np.round(clf_svc_10day_full.score(tenday_full_train, \n",
        "                                                       tenday_target_train), 4))\n",
        "print(\"Test set accuracy:\", np.round(clf_svc_10day_full.score(tenday_full_test,\n",
        "                                                        tenday_target_test), 4))\n",
        "\n",
        "# Precision and Recall of the Training Set\n",
        "target_pred_train_log = clf_svc_10day_full.predict(tenday_full_train)\n",
        "print(\"Training Set Precision:\", np.round(precision_score(tenday_target_train, \n",
        "                                                    target_pred_train_log), 4))\n",
        "print(\"Training Set Recall:\", np.round(recall_score(tenday_target_train, \n",
        "                                                    target_pred_train_log), 4))\n",
        "print(\"Training Set F1 Score:\", np.round(f1_score(tenday_target_train, \n",
        "                                                    target_pred_train_log), 4))\n",
        "\n",
        "# Precision and Recall of the Test Set\n",
        "target_pred_test_log = clf_svc_10day_full.predict(tenday_full_test)\n",
        "print(\"Test Set Precision:\", np.round(precision_score(tenday_target_test, \n",
        "                                                      target_pred_test_log), 4))\n",
        "print(\"Test Set Recall:\", np.round(recall_score(tenday_target_test, \n",
        "                                                target_pred_test_log), 4))\n",
        "print(\"Test Set F1 Score:\", np.round(f1_score(tenday_target_test, \n",
        "                                                    target_pred_test_log), 4))"
      ],
      "id": "tdxYj_gKC3Bj",
      "execution_count": null,
      "outputs": [
        {
          "output_type": "stream",
          "text": [
            "Training set accuracy: 0.8338\n",
            "Test set accuracy: 0.8588\n",
            "Training Set Precision: 0.7369\n",
            "Training Set Recall: 0.0167\n",
            "Training Set F1 Score: 0.0326\n",
            "Test Set Precision: 0.5246\n",
            "Test Set Recall: 0.0064\n",
            "Test Set F1 Score: 0.0127\n"
          ],
          "name": "stdout"
        }
      ]
    },
    {
      "cell_type": "code",
      "metadata": {
        "id": "rHp8kQrdprpb"
      },
      "source": [
        "clf_ext_10day_full = Pipeline([('imp', SimpleImputer(strategy = \"mean\")),\n",
        "                               ('poly', PolynomialFeatures(2)),\n",
        "                               ('scaler', StandardScaler()),\n",
        "                               ('svm', GradientBoostingClassifier())])\n",
        "clf_ext_10day_full.fit(tenday_full_train, tenday_target_train)"
      ],
      "id": "rHp8kQrdprpb",
      "execution_count": null,
      "outputs": []
    },
    {
      "cell_type": "code",
      "metadata": {
        "colab": {
          "base_uri": "https://localhost:8080/"
        },
        "id": "oNn4I2HNprpn",
        "outputId": "e259608f-539b-440f-9a94-d2ed14b36990"
      },
      "source": [
        "# Accuracies of Training and Test Set \n",
        "print(\"Training set accuracy:\", np.round(clf_ext_10day_full.score(tenday_full_train, \n",
        "                                                       tenday_target_train), 4))\n",
        "print(\"Test set accuracy:\", np.round(clf_ext_10day_full.score(tenday_full_test,\n",
        "                                                        tenday_target_test), 4))\n",
        "\n",
        "# Precision and Recall of the Training Set\n",
        "target_pred_train_log = clf_ext_10day_full.predict(tenday_full_train)\n",
        "print(\"Training Set Precision:\", np.round(precision_score(tenday_target_train, \n",
        "                                                    target_pred_train_log), 4))\n",
        "print(\"Training Set Recall:\", np.round(recall_score(tenday_target_train, \n",
        "                                                    target_pred_train_log), 4))\n",
        "print(\"Training Set F1 Score:\", np.round(f1_score(tenday_target_train, \n",
        "                                                    target_pred_train_log), 4))\n",
        "\n",
        "# Precision and Recall of the Test Set\n",
        "target_pred_test_log = clf_ext_10day_full.predict(tenday_full_test)\n",
        "print(\"Test Set Precision:\", np.round(precision_score(tenday_target_test, \n",
        "                                                      target_pred_test_log), 4))\n",
        "print(\"Test Set Recall:\", np.round(recall_score(tenday_target_test, \n",
        "                                                target_pred_test_log), 4))\n",
        "print(\"Test Set F1 Score:\", np.round(f1_score(tenday_target_test, \n",
        "                                                    target_pred_test_log), 4))"
      ],
      "id": "oNn4I2HNprpn",
      "execution_count": null,
      "outputs": [
        {
          "output_type": "stream",
          "text": [
            "Training set accuracy: 0.8429\n",
            "Test set accuracy: 0.859\n",
            "Training Set Precision: 0.6548\n",
            "Training Set Recall: 0.1376\n",
            "Training Set F1 Score: 0.2274\n",
            "Test Set Precision: 0.5038\n",
            "Test Set Recall: 0.171\n",
            "Test Set F1 Score: 0.2553\n"
          ],
          "name": "stdout"
        }
      ]
    },
    {
      "cell_type": "code",
      "metadata": {
        "id": "J5XUJogXZ-wz"
      },
      "source": [
        ""
      ],
      "id": "J5XUJogXZ-wz",
      "execution_count": null,
      "outputs": []
    },
    {
      "cell_type": "code",
      "metadata": {
        "id": "iBDoN4eSZ_O5"
      },
      "source": [
        "clf_rf_10day_full = Pipeline([('imp', SimpleImputer(strategy = \"mean\")),\n",
        "                               ('poly', PolynomialFeatures(2)),\n",
        "                               ('scaler', StandardScaler()),\n",
        "                               ('rf', RandomForestClassifier())])\n",
        "clf_rf_10day_full.fit(tenday_full_train, tenday_target_train)"
      ],
      "id": "iBDoN4eSZ_O5",
      "execution_count": null,
      "outputs": []
    },
    {
      "cell_type": "code",
      "metadata": {
        "colab": {
          "base_uri": "https://localhost:8080/"
        },
        "id": "CHu9pMHJZ_O5",
        "outputId": "d1a1d499-f5a4-46ec-d6c4-8532f61fb2ab"
      },
      "source": [
        "# Accuracies of Training and Test Set \n",
        "print(\"Training set accuracy:\", np.round(clf_rf_10day_full.score(tenday_full_train, \n",
        "                                                       tenday_target_train), 4))\n",
        "print(\"Test set accuracy:\", np.round(clf_rf_10day_full.score(tenday_full_test,\n",
        "                                                        tenday_target_test), 4))\n",
        "\n",
        "# Precision and Recall of the Training Set\n",
        "target_pred_train_log = clf_rf_10day_full.predict(tenday_full_train)\n",
        "print(\"Training Set Precision:\", np.round(precision_score(tenday_target_train, \n",
        "                                                    target_pred_train_log), 4))\n",
        "print(\"Training Set Recall:\", np.round(recall_score(tenday_target_train, \n",
        "                                                    target_pred_train_log), 4))\n",
        "print(\"Training Set F1 Score:\", np.round(f1_score(tenday_target_train, \n",
        "                                                    target_pred_train_log), 4))\n",
        "\n",
        "# Precision and Recall of the Test Set\n",
        "target_pred_test_log = clf_rf_10day_full.predict(tenday_full_test)\n",
        "print(\"Test Set Precision:\", np.round(precision_score(tenday_target_test, \n",
        "                                                      target_pred_test_log), 4))\n",
        "print(\"Test Set Recall:\", np.round(recall_score(tenday_target_test, \n",
        "                                                target_pred_test_log), 4))\n",
        "print(\"Test Set F1 Score:\", np.round(f1_score(tenday_target_test, \n",
        "                                                    target_pred_test_log), 4))"
      ],
      "id": "CHu9pMHJZ_O5",
      "execution_count": null,
      "outputs": [
        {
          "output_type": "stream",
          "text": [
            "Training set accuracy: 1.0\n",
            "Test set accuracy: 0.8541\n",
            "Training Set Precision: 1.0\n",
            "Training Set Recall: 0.9999\n",
            "Training Set F1 Score: 0.9999\n",
            "Test Set Precision: 0.4649\n",
            "Test Set Recall: 0.2125\n",
            "Test Set F1 Score: 0.2917\n"
          ],
          "name": "stdout"
        }
      ]
    },
    {
      "cell_type": "code",
      "metadata": {
        "id": "x6p-xFgFaAMS"
      },
      "source": [
        ""
      ],
      "id": "x6p-xFgFaAMS",
      "execution_count": null,
      "outputs": []
    },
    {
      "cell_type": "code",
      "metadata": {
        "id": "TbEgFLvSaAgL"
      },
      "source": [
        "clf_adb_10day_full = Pipeline([('imp', SimpleImputer(strategy = \"mean\")),\n",
        "                               ('poly', PolynomialFeatures(2)),\n",
        "                               ('scaler', StandardScaler()),\n",
        "                               ('adb', AdaBoostClassifier())])\n",
        "clf_adb_10day_full.fit(tenday_full_train, tenday_target_train)"
      ],
      "id": "TbEgFLvSaAgL",
      "execution_count": null,
      "outputs": []
    },
    {
      "cell_type": "code",
      "metadata": {
        "colab": {
          "base_uri": "https://localhost:8080/"
        },
        "id": "kpF8AZFBaAgM",
        "outputId": "f5240e3a-b927-4ffb-cf1b-e6a585489945"
      },
      "source": [
        "# Accuracies of Training and Test Set \n",
        "print(\"Training set accuracy:\", np.round(clf_adb_10day_full.score(tenday_full_train, \n",
        "                                                       tenday_target_train), 4))\n",
        "print(\"Test set accuracy:\", np.round(clf_adb_10day_full.score(tenday_full_test,\n",
        "                                                        tenday_target_test), 4))\n",
        "\n",
        "# Precision and Recall of the Training Set\n",
        "target_pred_train_log = clf_adb_10day_full.predict(tenday_full_train)\n",
        "print(\"Training Set Precision:\", np.round(precision_score(tenday_target_train, \n",
        "                                                    target_pred_train_log), 4))\n",
        "print(\"Training Set Recall:\", np.round(recall_score(tenday_target_train, \n",
        "                                                    target_pred_train_log), 4))\n",
        "print(\"Training Set F1 Score:\", np.round(f1_score(tenday_target_train, \n",
        "                                                    target_pred_train_log), 4))\n",
        "\n",
        "# Precision and Recall of the Test Set\n",
        "target_pred_test_log = clf_adb_10day_full.predict(tenday_full_test)\n",
        "print(\"Test Set Precision:\", np.round(precision_score(tenday_target_test, \n",
        "                                                      target_pred_test_log), 4))\n",
        "print(\"Test Set Recall:\", np.round(recall_score(tenday_target_test, \n",
        "                                                target_pred_test_log), 4))\n",
        "print(\"Test Set F1 Score:\", np.round(f1_score(tenday_target_test, \n",
        "                                                    target_pred_test_log), 4))"
      ],
      "id": "kpF8AZFBaAgM",
      "execution_count": null,
      "outputs": [
        {
          "output_type": "stream",
          "text": [
            "Training set accuracy: 0.8324\n",
            "Test set accuracy: 0.8523\n",
            "Training Set Precision: 0.5046\n",
            "Training Set Recall: 0.1329\n",
            "Training Set F1 Score: 0.2104\n",
            "Test Set Precision: 0.4333\n",
            "Test Set Recall: 0.1473\n",
            "Test Set F1 Score: 0.2199\n"
          ],
          "name": "stdout"
        }
      ]
    },
    {
      "cell_type": "code",
      "metadata": {
        "id": "K1Nl6m36anHv"
      },
      "source": [
        ""
      ],
      "id": "K1Nl6m36anHv",
      "execution_count": null,
      "outputs": []
    },
    {
      "cell_type": "code",
      "metadata": {
        "id": "uXAz2GpEapjR"
      },
      "source": [
        "clf_gbc_10day_full = Pipeline([('imp', SimpleImputer(strategy = \"mean\")),\n",
        "                               ('poly', PolynomialFeatures(2)),\n",
        "                               ('scaler', StandardScaler()),\n",
        "                               ('gbc', GradientBoostingClassifier())])\n",
        "clf_gbc_10day_full.fit(tenday_full_train, tenday_target_train)"
      ],
      "id": "uXAz2GpEapjR",
      "execution_count": null,
      "outputs": []
    },
    {
      "cell_type": "code",
      "metadata": {
        "colab": {
          "base_uri": "https://localhost:8080/"
        },
        "id": "0IkxndGvapjb",
        "outputId": "102c8ba7-6b47-4a99-dd87-76b218267413"
      },
      "source": [
        "# Accuracies of Training and Test Set \n",
        "print(\"Training set accuracy:\", np.round(clf_gbc_10day_full.score(tenday_full_train, \n",
        "                                                       tenday_target_train), 4))\n",
        "print(\"Test set accuracy:\", np.round(clf_gbc_10day_full.score(tenday_full_test,\n",
        "                                                        tenday_target_test), 4))\n",
        "\n",
        "# Precision and Recall of the Training Set\n",
        "target_pred_train_log = clf_gbc_10day_full.predict(tenday_full_train)\n",
        "print(\"Training Set Precision:\", np.round(precision_score(tenday_target_train, \n",
        "                                                    target_pred_train_log), 4))\n",
        "print(\"Training Set Recall:\", np.round(recall_score(tenday_target_train, \n",
        "                                                    target_pred_train_log), 4))\n",
        "print(\"Training Set F1 Score:\", np.round(f1_score(tenday_target_train, \n",
        "                                                    target_pred_train_log), 4))\n",
        "\n",
        "# Precision and Recall of the Test Set\n",
        "target_pred_test_log = clf_gbc_10day_full.predict(tenday_full_test)\n",
        "print(\"Test Set Precision:\", np.round(precision_score(tenday_target_test, \n",
        "                                                      target_pred_test_log), 4))\n",
        "print(\"Test Set Recall:\", np.round(recall_score(tenday_target_test, \n",
        "                                                target_pred_test_log), 4))\n",
        "print(\"Test Set F1 Score:\", np.round(f1_score(tenday_target_test, \n",
        "                                                    target_pred_test_log), 4))"
      ],
      "id": "0IkxndGvapjb",
      "execution_count": null,
      "outputs": [
        {
          "output_type": "stream",
          "text": [
            "Training set accuracy: 0.8429\n",
            "Test set accuracy: 0.8588\n",
            "Training Set Precision: 0.6548\n",
            "Training Set Recall: 0.1376\n",
            "Training Set F1 Score: 0.2274\n",
            "Test Set Precision: 0.5015\n",
            "Test Set Recall: 0.1714\n",
            "Test Set F1 Score: 0.2555\n"
          ],
          "name": "stdout"
        }
      ]
    },
    {
      "cell_type": "code",
      "metadata": {
        "id": "lqYVA-gvavI7"
      },
      "source": [
        ""
      ],
      "id": "lqYVA-gvavI7",
      "execution_count": null,
      "outputs": []
    },
    {
      "cell_type": "code",
      "metadata": {
        "id": "Ch5aZZRVavjk"
      },
      "source": [
        "clf_xgb_10day_full = Pipeline([('imp', SimpleImputer(strategy = \"mean\")),\n",
        "                               ('poly', PolynomialFeatures(2)),\n",
        "                               ('scaler', StandardScaler()),\n",
        "                               ('xgb', XGBClassifier())])\n",
        "clf_xgb_10day_full.fit(tenday_full_train, tenday_target_train)"
      ],
      "id": "Ch5aZZRVavjk",
      "execution_count": null,
      "outputs": []
    },
    {
      "cell_type": "code",
      "metadata": {
        "colab": {
          "base_uri": "https://localhost:8080/"
        },
        "id": "6HMe3UHjavjl",
        "outputId": "ec18c045-cee0-4fdc-b655-27a34c1b7ab6"
      },
      "source": [
        "# Accuracies of Training and Test Set \n",
        "print(\"Training set accuracy:\", np.round(clf_xgb_10day_full.score(tenday_full_train, \n",
        "                                                       tenday_target_train), 4))\n",
        "print(\"Test set accuracy:\", np.round(clf_xgb_10day_full.score(tenday_full_test,\n",
        "                                                        tenday_target_test), 4))\n",
        "\n",
        "# Precision and Recall of the Training Set\n",
        "target_pred_train_log = clf_xgb_10day_full.predict(tenday_full_train)\n",
        "print(\"Training Set Precision:\", np.round(precision_score(tenday_target_train, \n",
        "                                                    target_pred_train_log), 4))\n",
        "print(\"Training Set Recall:\", np.round(recall_score(tenday_target_train, \n",
        "                                                    target_pred_train_log), 4))\n",
        "print(\"Training Set F1 Score:\", np.round(f1_score(tenday_target_train, \n",
        "                                                    target_pred_train_log), 4))\n",
        "\n",
        "# Precision and Recall of the Test Set\n",
        "target_pred_test_log = clf_xgb_10day_full.predict(tenday_full_test)\n",
        "print(\"Test Set Precision:\", np.round(precision_score(tenday_target_test, \n",
        "                                                      target_pred_test_log), 4))\n",
        "print(\"Test Set Recall:\", np.round(recall_score(tenday_target_test, \n",
        "                                                target_pred_test_log), 4))\n",
        "print(\"Test Set F1 Score:\", np.round(f1_score(tenday_target_test, \n",
        "                                                    target_pred_test_log), 4))"
      ],
      "id": "6HMe3UHjavjl",
      "execution_count": null,
      "outputs": [
        {
          "output_type": "stream",
          "text": [
            "Training set accuracy: 0.8394\n",
            "Test set accuracy: 0.8617\n",
            "Training Set Precision: 0.6735\n",
            "Training Set Recall: 0.086\n",
            "Training Set F1 Score: 0.1525\n",
            "Test Set Precision: 0.5455\n",
            "Test Set Recall: 0.1286\n",
            "Test Set F1 Score: 0.2082\n"
          ],
          "name": "stdout"
        }
      ]
    },
    {
      "cell_type": "markdown",
      "metadata": {
        "id": "0aDyL1Y8pGpt"
      },
      "source": [
        "The best classifier found:"
      ],
      "id": "0aDyL1Y8pGpt"
    },
    {
      "cell_type": "code",
      "metadata": {
        "colab": {
          "base_uri": "https://localhost:8080/"
        },
        "id": "S_js82oZPaPj",
        "outputId": "44ce7770-b37d-4c01-81a0-8a4744e7d784"
      },
      "source": [
        "clf_log"
      ],
      "id": "S_js82oZPaPj",
      "execution_count": 12,
      "outputs": [
        {
          "output_type": "execute_result",
          "data": {
            "text/plain": [
              "LogisticRegression(C=1.0, class_weight='balanced', dual=False,\n",
              "                   fit_intercept=True, intercept_scaling=1, l1_ratio=None,\n",
              "                   max_iter=10000, multi_class='auto', n_jobs=None,\n",
              "                   penalty='l2', random_state=None, solver='lbfgs', tol=0.0001,\n",
              "                   verbose=0, warm_start=False)"
            ]
          },
          "metadata": {
            "tags": []
          },
          "execution_count": 12
        }
      ]
    },
    {
      "cell_type": "code",
      "metadata": {
        "id": "xn8teR2zvH0j",
        "colab": {
          "base_uri": "https://localhost:8080/"
        },
        "outputId": "1f3ba8e3-58e1-43b5-f1ff-d2558064b588"
      },
      "source": [
        "clf_xgb_10day_full = Pipeline([('imp', SimpleImputer(strategy = \"mean\")),\n",
        "                               ('scaler', StandardScaler()),\n",
        "                               ('xgb', clf_log)])\n",
        "clf_xgb_10day_full.fit(tenday_full_train, tenday_target_train)"
      ],
      "id": "xn8teR2zvH0j",
      "execution_count": 17,
      "outputs": [
        {
          "output_type": "execute_result",
          "data": {
            "text/plain": [
              "Pipeline(memory=None,\n",
              "         steps=[('imp',\n",
              "                 SimpleImputer(add_indicator=False, copy=True, fill_value=None,\n",
              "                               missing_values=nan, strategy='mean',\n",
              "                               verbose=0)),\n",
              "                ('scaler',\n",
              "                 StandardScaler(copy=True, with_mean=True, with_std=True)),\n",
              "                ('xgb',\n",
              "                 LogisticRegression(C=1.0, class_weight='balanced', dual=False,\n",
              "                                    fit_intercept=True, intercept_scaling=1,\n",
              "                                    l1_ratio=None, max_iter=10000,\n",
              "                                    multi_class='auto', n_jobs=None,\n",
              "                                    penalty='l2', random_state=None,\n",
              "                                    solver='lbfgs', tol=0.0001, verbose=0,\n",
              "                                    warm_start=False))],\n",
              "         verbose=False)"
            ]
          },
          "metadata": {
            "tags": []
          },
          "execution_count": 17
        }
      ]
    },
    {
      "cell_type": "code",
      "metadata": {
        "id": "IF2aXyqk_CSl"
      },
      "source": [
        "from google.colab import drive\n",
        "drive.mount('/content/drive')"
      ],
      "id": "IF2aXyqk_CSl",
      "execution_count": null,
      "outputs": []
    },
    {
      "cell_type": "code",
      "metadata": {
        "colab": {
          "base_uri": "https://localhost:8080/"
        },
        "id": "-T1Xbe03vH0k",
        "outputId": "a9482c4f-ff47-48fb-d516-303378849227"
      },
      "source": [
        "# Accuracies of Training and Test Set \n",
        "print(\"Training set accuracy:\", np.round(clf_vc_10day_full.score(tenday_full_train, \n",
        "                                                       tenday_target_train), 4))\n",
        "print(\"Test set accuracy:\", np.round(clf_vc_10day_full.score(tenday_full_test,\n",
        "                                                        tenday_target_test), 4))\n",
        "\n",
        "# Precision and Recall of the Training Set\n",
        "target_pred_train_log = clf_vc_10day_full.predict(tenday_full_train)\n",
        "print(\"Training Set Precision:\", np.round(precision_score(tenday_target_train, \n",
        "                                                    target_pred_train_log), 4))\n",
        "print(\"Training Set Recall:\", np.round(recall_score(tenday_target_train, \n",
        "                                                    target_pred_train_log), 4))\n",
        "print(\"Training Set F1 Score:\", np.round(f1_score(tenday_target_train, \n",
        "                                                    target_pred_train_log), 4))\n",
        "\n",
        "# Precision and Recall of the Test Set\n",
        "target_pred_test_log = clf_vc_10day_full.predict(tenday_full_test)\n",
        "print(\"Test Set Precision:\", np.round(precision_score(tenday_target_test, \n",
        "                                                      target_pred_test_log), 4))\n",
        "print(\"Test Set Recall:\", np.round(recall_score(tenday_target_test, \n",
        "                                                target_pred_test_log), 4))\n",
        "print(\"Test Set F1 Score:\", np.round(f1_score(tenday_target_test, \n",
        "                                                    target_pred_test_log), 4))"
      ],
      "id": "-T1Xbe03vH0k",
      "execution_count": 18,
      "outputs": [
        {
          "output_type": "stream",
          "text": [
            "Training set accuracy: 0.6811\n",
            "Test set accuracy: 0.6783\n",
            "Training Set Precision: 0.1542\n",
            "Training Set Recall: 0.6325\n",
            "Training Set F1 Score: 0.2479\n",
            "Test Set Precision: 0.1296\n",
            "Test Set Recall: 0.6439\n",
            "Test Set F1 Score: 0.2157\n"
          ],
          "name": "stdout"
        }
      ]
    },
    {
      "cell_type": "code",
      "metadata": {
        "id": "ZpNYLBlUKqaT"
      },
      "source": [
        "Training set accuracy: 0.8875\n",
        "Test set accuracy: 0.8018\n",
        "Training Set Precision: 0.6123\n",
        "Training Set Recall: 0.9012\n",
        "Training Set F1 Score: 0.7292\n",
        "Test Set Precision: 0.3932\n",
        "Test Set Recall: 0.7409\n",
        "Test Set F1 Score: 0.5138\n",
        "Test Set Precision: 0.202\n",
        "Test Set Recall: 0.988\n",
        "Test Set F1 Score: 0.3355\n",
        "\n",
        "Training set accuracy: 0.8738\n",
        "Test set accuracy: 0.7852\n",
        "Training Set Precision: 0.5821\n",
        "Training Set Recall: 0.883\n",
        "Training Set F1 Score: 0.7016\n",
        "Test Set Precision: 0.3682\n",
        "Test Set Recall: 0.7267\n",
        "Test Set F1 Score: 0.4888\n",
        "Test Set Precision: 0.1905\n",
        "Test Set Recall: 0.9896\n",
        "Test Set F1 Score: 0.3195\n",
        "\n",
        "Training set accuracy: 0.859\n",
        "Test set accuracy: 0.7614\n",
        "Training Set Precision: 0.5513\n",
        "Training Set Recall: 0.8648\n",
        "Training Set F1 Score: 0.6734\n",
        "Test Set Precision: 0.3275\n",
        "Test Set Recall: 0.653\n",
        "Test Set F1 Score: 0.4362"
      ],
      "id": "ZpNYLBlUKqaT",
      "execution_count": null,
      "outputs": []
    },
    {
      "cell_type": "code",
      "metadata": {
        "colab": {
          "base_uri": "https://localhost:8080/"
        },
        "id": "MeEgAI0GrdLo",
        "outputId": "e5093422-9276-4281-af81-6ffa2b61cac2"
      },
      "source": [
        "tenday_target_test.value_counts()"
      ],
      "id": "MeEgAI0GrdLo",
      "execution_count": null,
      "outputs": [
        {
          "output_type": "execute_result",
          "data": {
            "text/plain": [
              "0    30276\n",
              "1     4983\n",
              "Name: fire, dtype: int64"
            ]
          },
          "metadata": {
            "tags": []
          },
          "execution_count": 24
        }
      ]
    },
    {
      "cell_type": "code",
      "metadata": {
        "colab": {
          "base_uri": "https://localhost:8080/"
        },
        "id": "WCn2DZPfpqbZ",
        "outputId": "202bad7f-5f14-490a-c0b5-5695769fcbdc"
      },
      "source": [
        "target_pred_test_log = clf_vc_10day_full.predict(tenday_full_test)\n",
        "\n",
        "print(\"Confusion Matrix with default 0.5 threshold: \\n\", np.round(confusion_matrix(tenday_target_test, \n",
        "                                                      target_pred_test_log), 4))"
      ],
      "id": "WCn2DZPfpqbZ",
      "execution_count": null,
      "outputs": [
        {
          "output_type": "stream",
          "text": [
            "Confusion Matrix with default 0.5 threshold: \n",
            " [[24579  5697]\n",
            " [ 1291  3692]]\n"
          ],
          "name": "stdout"
        }
      ]
    },
    {
      "cell_type": "code",
      "metadata": {
        "id": "EYCH4BVBo-g2",
        "colab": {
          "base_uri": "https://localhost:8080/"
        },
        "outputId": "02c8eb39-6c01-4e58-c6e9-a5e4c94405ef"
      },
      "source": [
        "y_scores = clf_vc_10day_full.predict_proba(tenday_full_test)\n",
        "target_pred_test_log = (clf_vc_10day_full.predict_proba(tenday_full_test)[:,1] >= 0.1).astype(bool)\n",
        "\n",
        "print(\"Confusion Matrix when recall set to high: \\n\", np.round(confusion_matrix(tenday_target_test, \n",
        "                                                      target_pred_test_log), 4))"
      ],
      "id": "EYCH4BVBo-g2",
      "execution_count": null,
      "outputs": [
        {
          "output_type": "stream",
          "text": [
            "Confusion Matrix when recall set to high: \n",
            " [[10833 19443]\n",
            " [   60  4923]]\n"
          ],
          "name": "stdout"
        }
      ]
    },
    {
      "cell_type": "code",
      "metadata": {
        "colab": {
          "base_uri": "https://localhost:8080/"
        },
        "id": "ucqJwtU1drMv",
        "outputId": "57156e0d-bfec-48e9-8696-7c66d2839a46"
      },
      "source": [
        "print(\"Test Set Precision:\", np.round(precision_score(tenday_target_test, \n",
        "                                                      target_pred_test_log), 4))\n",
        "print(\"Test Set Recall:\", np.round(recall_score(tenday_target_test, \n",
        "                                                target_pred_test_log), 4))\n",
        "print(\"Test Set F1 Score:\", np.round(f1_score(tenday_target_test, \n",
        "                                                    target_pred_test_log), 4))"
      ],
      "id": "ucqJwtU1drMv",
      "execution_count": null,
      "outputs": [
        {
          "output_type": "stream",
          "text": [
            "Test Set Precision: 0.202\n",
            "Test Set Recall: 0.988\n",
            "Test Set F1 Score: 0.3355\n"
          ],
          "name": "stdout"
        }
      ]
    },
    {
      "cell_type": "code",
      "metadata": {
        "id": "lnxSWR3h2k-J"
      },
      "source": [
        "precision_scores, recall_scores, thresholds = precision_recall_curve(tenday_target_test, np.max(y_scores, 1))"
      ],
      "id": "lnxSWR3h2k-J",
      "execution_count": null,
      "outputs": []
    },
    {
      "cell_type": "code",
      "metadata": {
        "colab": {
          "base_uri": "https://localhost:8080/",
          "height": 265
        },
        "id": "M2ArFmQ4pEL8",
        "outputId": "82f7fc9a-afa1-43d4-b2e5-a5bdfdcc2207"
      },
      "source": [
        "plt.plot(thresholds, precision_scores[1:], label=\"precision\")\n",
        "plt.plot(thresholds, recall_scores[1:], label=\"recall\")\n",
        "plt.legend()\n",
        "plt.show()"
      ],
      "id": "M2ArFmQ4pEL8",
      "execution_count": null,
      "outputs": [
        {
          "output_type": "display_data",
          "data": {
            "image/png": "[encoded data removed]",
            "text/plain": [
              "<Figure size 432x288 with 1 Axes>"
            ]
          },
          "metadata": {
            "tags": [],
            "needs_background": "light"
          }
        }
      ]
    },
    {
      "cell_type": "code",
      "metadata": {
        "colab": {
          "base_uri": "https://localhost:8080/",
          "height": 296
        },
        "id": "_FTA2yNa5Ifm",
        "outputId": "3fffff49-5a97-4d8f-e94e-3ed313682845"
      },
      "source": [
        "plot_precision_recall_curve(clf_vc_10day_full, tenday_full_test, tenday_target_test)"
      ],
      "id": "_FTA2yNa5Ifm",
      "execution_count": null,
      "outputs": [
        {
          "output_type": "execute_result",
          "data": {
            "text/plain": [
              "<sklearn.metrics._plot.precision_recall_curve.PrecisionRecallDisplay at 0x7f774c45ce50>"
            ]
          },
          "metadata": {
            "tags": []
          },
          "execution_count": 11
        },
        {
          "output_type": "display_data",
          "data": {
            "image/png": "[encoded data removed]",
            "text/plain": [
              "<Figure size 432x288 with 1 Axes>"
            ]
          },
          "metadata": {
            "tags": [],
            "needs_background": "light"
          }
        }
      ]
    },
    {
      "cell_type": "code",
      "metadata": {
        "id": "qNQWY5sY3B2D",
        "colab": {
          "base_uri": "https://localhost:8080/",
          "height": 296
        },
        "outputId": "b8569c21-f5df-45d5-8f8f-a5c7e361bca2"
      },
      "source": [
        "plot_precision_recall_curve(clf_vc_10day_full, tenday_full_train, tenday_target_train)"
      ],
      "id": "qNQWY5sY3B2D",
      "execution_count": null,
      "outputs": [
        {
          "output_type": "execute_result",
          "data": {
            "text/plain": [
              "<sklearn.metrics._plot.precision_recall_curve.PrecisionRecallDisplay at 0x7f7743005f10>"
            ]
          },
          "metadata": {
            "tags": []
          },
          "execution_count": 12
        },
        {
          "output_type": "display_data",
          "data": {
            "image/png": "[encoded data removed]",
            "text/plain": [
              "<Figure size 432x288 with 1 Axes>"
            ]
          },
          "metadata": {
            "tags": [],
            "needs_background": "light"
          }
        }
      ]
    },
    {
      "cell_type": "code",
      "metadata": {
        "id": "NMnSqm353_Hr"
      },
      "source": [
        ""
      ],
      "id": "NMnSqm353_Hr",
      "execution_count": null,
      "outputs": []
    }
  ]
}